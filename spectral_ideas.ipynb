{
 "cells": [
  {
   "cell_type": "code",
   "execution_count": 2,
   "metadata": {},
   "outputs": [],
   "source": [
    "import numpy as np\n",
    "import scipy as sp\n",
    "from utility import M,F, benchmark_mapping, get_best_connected, invert"
   ]
  },
  {
   "cell_type": "code",
   "execution_count": 55,
   "metadata": {},
   "outputs": [
    {
     "data": {
      "text/plain": [
       "(0.224672, 0.123912)"
      ]
     },
     "execution_count": 55,
     "metadata": {},
     "output_type": "execute_result"
    }
   ],
   "source": [
    "m=500\n",
    "H_M,M_positions = get_best_connected(M,m)\n",
    "H_F,F_positions = get_best_connected(F,m)\n",
    "H_M = H_M.todense()\n",
    "H_F = H_F.todense()\n",
    "H_F[np.arange(m),np.arange(m)] = 0\n",
    "H_M[np.arange(m),np.arange(m)] = 0\n",
    "np.count_nonzero(H_M)/m**2, np.count_nonzero(H_F)/m**2"
   ]
  },
  {
   "cell_type": "code",
   "execution_count": 56,
   "metadata": {},
   "outputs": [],
   "source": [
    "G = H_F\n",
    "lam, E = np.linalg.eig(G)"
   ]
  },
  {
   "cell_type": "code",
   "execution_count": 57,
   "metadata": {},
   "outputs": [
    {
     "data": {
      "text/plain": [
       "(856.8183345805677, 717.0857770055927, 783.7076302570453)"
      ]
     },
     "execution_count": 57,
     "metadata": {},
     "output_type": "execute_result"
    }
   ],
   "source": [
    "def norm(A,x):\n",
    "\n",
    "    return np.sqrt((np.abs(A@x)**2).sum()/(np.abs(x)**2).sum())\n",
    "\n",
    "u=E[:,0]\n",
    "v=E[:,1] \n",
    "w = np.abs(v)\n",
    "norm(H_F,u), norm(H_F,v), norm(H_F,w)"
   ]
  },
  {
   "cell_type": "code",
   "execution_count": 58,
   "metadata": {},
   "outputs": [
    {
     "data": {
      "text/plain": [
       "array([0.35011367+0.j, 0.29662041+0.j, 0.28628435+0.j, 0.26254021+0.j,\n",
       "       0.24581751+0.j, 0.2163818 +0.j, 0.2139034 +0.j, 0.18874992+0.j,\n",
       "       0.16005349+0.j])"
      ]
     },
     "execution_count": 58,
     "metadata": {},
     "output_type": "execute_result"
    }
   ],
   "source": [
    "np.sort(u)[-1:-10:-1]"
   ]
  }
 ],
 "metadata": {
  "kernelspec": {
   "display_name": "Python 3",
   "language": "python",
   "name": "python3"
  },
  "language_info": {
   "codemirror_mode": {
    "name": "ipython",
    "version": 3
   },
   "file_extension": ".py",
   "mimetype": "text/x-python",
   "name": "python",
   "nbconvert_exporter": "python",
   "pygments_lexer": "ipython3",
   "version": "3.10.8"
  }
 },
 "nbformat": 4,
 "nbformat_minor": 2
}

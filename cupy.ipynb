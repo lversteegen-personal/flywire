{
 "cells": [
  {
   "cell_type": "code",
   "execution_count": null,
   "metadata": {},
   "outputs": [],
   "source": [
    "#Only run in colab\n",
    "from google.colab import drive\n",
    "drive.mount('/content/drive')\n",
    "%cd /content/drive/MyDrive/Github/flywire"
   ]
  },
  {
   "cell_type": "code",
   "execution_count": null,
   "metadata": {},
   "outputs": [],
   "source": [
    "import numpy as np\n",
    "import scipy as sp\n",
    "import cupy as cp\n",
    "from utility import M,F, benchmark_mapping, get_best_connected, invert, score, get_highest_out_degrees\n",
    "rng = np.random.default_rng(0)"
   ]
  },
  {
   "cell_type": "code",
   "execution_count": 1,
   "metadata": {},
   "outputs": [
    {
     "name": "stdout",
     "output_type": "stream",
     "text": [
      "Hello World\n"
     ]
    }
   ],
   "source": [
    "def make_best_swap(G,H, mapping, u, scores_by_vertex):\n",
    "\n",
    "    m = G.shape[0]\n",
    "    n = H.shape[0]\n",
    "\n",
    "    row = G[u,:]\n",
    "    rnz = np.flatnonzero(row)\n",
    "    row = row[rnz]\n",
    "    col = G[:,u]\n",
    "    cnz = np.flatnonzero(col)\n",
    "    col = col[cnz]\n",
    "\n",
    "    X = H[mapping[:,None],mapping[None,rnz]].reshape((n,len(rnz)))\n",
    "    Y = H[mapping[cnz,None],mapping[None,:]].reshape((len(cnz),n))\n",
    "\n",
    "    u_scores = cp.minimum(row[None,:],X).sum(axis=1) + cp.minimum(col[:,None],Y).sum(axis=0)\n",
    "\n",
    "    f_u = mapping[u]\n",
    "\n",
    "    row = H[f_u,mapping]\n",
    "    rnz = np.flatnonzero(row)\n",
    "    row = row[rnz]\n",
    "    col = H[mapping,f_u]\n",
    "    cnz = np.flatnonzero(col)\n",
    "    col = col[cnz]\n",
    "\n",
    "    X = G[:,rnz[None,:]].reshape((m,len(rnz)))\n",
    "    Y = G[cnz[:,None],:].reshape((len(cnz),m))\n",
    "\n",
    "    f_u_scores = cp.minimum(row[None,:],X).sum(axis=1) + cp.minimum(col[:,None],Y).sum(axis=0)\n",
    "\n",
    "    scores = u_scores + f_u_scores + np.minimum(G[u,:],H[mapping,f_u])+np.minimum(G[:,u],H[f_u,mapping])\n",
    "    scores -= scores_by_vertex\n",
    "    scores -= scores_by_vertex[u]\n",
    "    #The actual change will be 2*scores[w], but this does not change which vertex we will choose for the swap.\n",
    "\n",
    "    w = scores.argmax()\n",
    "    if scores[w] > 0:\n",
    "\n",
    "        f_w = mapping[w]\n",
    "\n",
    "        scores_by_vertex += cp.minimum(G[:,u],H[mapping,f_w])+cp.minimum(G[u,:],H[f_w,mapping])+cp.minimum(G[:,w],H[mapping,f_u])+cp.minimum(G[w,:],H[f_u,mapping])\n",
    "        scores_by_vertex -= cp.minimum(G[:,u],H[mapping,f_u])+cp.minimum(G[u,:],H[f_u,mapping])+cp.minimum(G[:,w],H[mapping,f_w])+cp.minimum(G[w,:],H[f_w,mapping])\n",
    "\n",
    "        scores_by_vertex[u] = u_scores[w]+ cp.minimum(G[u,w],H[f_w,f_u])+cp.minimum(G[w,u],H[f_u,f_w])\n",
    "        scores_by_vertex[w] = f_u_scores[w]+ cp.minimum(G[u,w],H[f_w,f_u])+cp.minimum(G[w,u],H[f_u,f_w])\n",
    "\n",
    "        mapping[u] = f_w\n",
    "        mapping[w] = f_u\n",
    "\n",
    "        return scores[w]\n",
    "    \n",
    "    else:\n",
    "        return 0\n",
    "    \n",
    "def get_scores_by_vertex(G,H,mapping):\n",
    "\n",
    "    m = G.shape[0]\n",
    "    scores = cp.minimum(G,H[mapping[:,None],mapping[None,:]])\n",
    "    return scores.sum(axis=0)+scores.sum(axis=1)"
   ]
  },
  {
   "cell_type": "code",
   "execution_count": null,
   "metadata": {},
   "outputs": [],
   "source": [
    "A=cp.asarray(M.todense())\n",
    "B=cp.asarray(F.todense())\n",
    "N=A.shape[0]\n",
    "A[np.arange(N),np.arange(N)]=0\n",
    "B[np.arange(N),np.arange(N)]=0"
   ]
  },
  {
   "cell_type": "code",
   "execution_count": null,
   "metadata": {},
   "outputs": [],
   "source": [
    "G= B\n",
    "H=A\n",
    "mapping = cp.asarray(invert(benchmark_mapping))"
   ]
  },
  {
   "cell_type": "code",
   "execution_count": null,
   "metadata": {},
   "outputs": [],
   "source": [
    "scores_by_vertex = get_scores_by_vertex(G,H,mapping)\n",
    "score_track=scores_by_vertex.sum()//2\n",
    "\n",
    "for i in range(5):\n",
    "  for u in cp.arange(N):#range(1319,N):\n",
    "    improvement = make_best_swap(G,H,mapping,u,scores_by_vertex)\n",
    "    score_track += improvement\n",
    "    if u%20 == 0:\n",
    "      print(f\"{i=}, {u=}, {score_track=}\",end=\"\\n\")"
   ]
  }
 ],
 "metadata": {
  "kernelspec": {
   "display_name": "Python 3",
   "language": "python",
   "name": "python3"
  },
  "language_info": {
   "codemirror_mode": {
    "name": "ipython",
    "version": 3
   },
   "file_extension": ".py",
   "mimetype": "text/x-python",
   "name": "python",
   "nbconvert_exporter": "python",
   "pygments_lexer": "ipython3",
   "version": "3.10.8"
  }
 },
 "nbformat": 4,
 "nbformat_minor": 2
}

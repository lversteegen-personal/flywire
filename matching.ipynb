{
 "cells": [
  {
   "cell_type": "code",
   "execution_count": 1,
   "metadata": {},
   "outputs": [],
   "source": [
    "import pandas as pd\n",
    "from pandas import read_csv\n",
    "\n",
    "male_edges = {(int(str.removeprefix(r[1], \"m\")), int(str.removeprefix(r[2], \"m\"))): int(r[3]) \n",
    "                for r in read_csv(\"male_connectome_graph.csv\").itertuples()}\n",
    "female_edges = {(int(str.removeprefix(r[1], \"f\")), int(str.removeprefix(r[2], \"f\"))): int(r[3])\n",
    "                for r in read_csv(\"female_connectome_graph.csv\").itertuples()}\n",
    "matching = {int(str.removeprefix(r[1], \"m\")): int(str.removeprefix(r[2], \"f\")) for r in read_csv(\"benchmark.csv\").itertuples()}\n",
    "alignment = 0\n",
    "\n",
    "#for male_nodes, edge_weight in male_edges.items():\n",
    "#  female_nodes = (matching[male_nodes[0]], matching[male_nodes[1]])\n",
    "#  alignment += min(edge_weight, female_edges.get(female_nodes, 0))\n",
    "\n",
    "#print(f\"{alignment=}\")"
   ]
  },
  {
   "cell_type": "code",
   "execution_count": 46,
   "metadata": {},
   "outputs": [],
   "source": [
    "import numpy as np\n",
    "import scipy as sp\n",
    "\n",
    "def get_csr_matrix(edges):\n",
    "\n",
    "    data = []\n",
    "    coords = ([],[])\n",
    "\n",
    "    for (u,v), weight in edges.items():\n",
    "        coords[0].append(u-1)\n",
    "        coords[1].append(v-1)\n",
    "        data.append(weight)\n",
    "\n",
    "    M=sp.sparse.coo_array((data,coords)).astype(dtype=float).tocsr()\n",
    "\n",
    "    return M\n",
    "\n",
    "def score(M, F, mapping):\n",
    "\n",
    "    check = np.zeros(len(mapping),dtype=bool)\n",
    "    check[mapping] = True\n",
    "    if check.min() == False:\n",
    "        raise Exception(\"Mapping to be scored is not injective!\")\n",
    "\n",
    "    if isinstance(M,sp.sparse.csr_array):\n",
    "        S=sp.sparse.csr_array.minimum(M,F[mapping[:,None],mapping])\n",
    "        return S.sum()\n",
    "    else:\n",
    "        return np.minimum(M,F[mapping[:,None],mapping]).sum()\n",
    "\n",
    "M = get_csr_matrix(male_edges)\n",
    "F = get_csr_matrix(female_edges)\n",
    "n = M.shape[0]\n",
    "\n",
    "benchmark_mapping = np.zeros(n,dtype=int)\n",
    "for u,v in matching.items():\n",
    "    benchmark_mapping[u-1] = v-1"
   ]
  },
  {
   "cell_type": "code",
   "execution_count": 3,
   "metadata": {},
   "outputs": [],
   "source": [
    "A = M.todense()\n",
    "B = F.todense()"
   ]
  },
  {
   "cell_type": "markdown",
   "metadata": {},
   "source": [
    "Analyzing the distribution of degrees"
   ]
  },
  {
   "cell_type": "code",
   "execution_count": 96,
   "metadata": {},
   "outputs": [
    {
     "data": {
      "image/png": "[encoded data removed]",
      "text/plain": [
       "<Figure size 640x480 with 1 Axes>"
      ]
     },
     "metadata": {},
     "output_type": "display_data"
    }
   ],
   "source": [
    "import matplotlib.pyplot as plt\n",
    "\n",
    "total_degrees = (M!=0).astype(dtype=int).sum(axis=1)+(M!=0).astype(dtype=int).sum(axis=0)\n",
    "values, edges=np.histogram(total_degrees, [2**k for k in range(int(np.log2(total_degrees.max()))+1)])\n",
    "patch = plt.stairs(values, edges)\n",
    "patch.axes.set_xscale(\"log\")\n",
    "patch.axes.set_yscale(\"log\")\n",
    "#np.concatenate([np.arange(bincounts.shape[0]).reshape(-1,1),bincounts.reshape(-1,1)],axis=1)"
   ]
  },
  {
   "cell_type": "code",
   "execution_count": null,
   "metadata": {},
   "outputs": [
    {
     "name": "stdout",
     "output_type": "stream",
     "text": [
      "i=2446\r"
     ]
    },
    {
     "ename": "KeyboardInterrupt",
     "evalue": "",
     "output_type": "error",
     "traceback": [
      "\u001b[1;31m---------------------------------------------------------------------------\u001b[0m",
      "\u001b[1;31mKeyboardInterrupt\u001b[0m                         Traceback (most recent call last)",
      "Cell \u001b[1;32mIn [15], line 18\u001b[0m\n\u001b[0;32m     14\u001b[0m mapped_in_neighbors \u001b[38;5;241m=\u001b[39m in_neighbors[mapping[in_neighbors] \u001b[38;5;241m!=\u001b[39m \u001b[38;5;241m-\u001b[39m\u001b[38;5;241m1\u001b[39m]\n\u001b[0;32m     16\u001b[0m connection_F \u001b[38;5;241m=\u001b[39m base_F\u001b[38;5;241m.\u001b[39mcopy()\n\u001b[1;32m---> 18\u001b[0m connection_F \u001b[38;5;241m+\u001b[39m\u001b[38;5;241m=\u001b[39m \u001b[43mnp\u001b[49m\u001b[38;5;241;43m.\u001b[39;49m\u001b[43mminimum\u001b[49m\u001b[43m(\u001b[49m\u001b[43mA\u001b[49m\u001b[43m[\u001b[49m\u001b[43mmapped_in_neighbors\u001b[49m\u001b[43m,\u001b[49m\u001b[43mu\u001b[49m\u001b[43m,\u001b[49m\u001b[38;5;28;43;01mNone\u001b[39;49;00m\u001b[43m]\u001b[49m\u001b[43m,\u001b[49m\u001b[43mB\u001b[49m\u001b[43m[\u001b[49m\u001b[43mmapping\u001b[49m\u001b[43m[\u001b[49m\u001b[43mmapped_in_neighbors\u001b[49m\u001b[43m]\u001b[49m\u001b[43m,\u001b[49m\u001b[43m:\u001b[49m\u001b[43m]\u001b[49m\u001b[43m)\u001b[49m\u001b[38;5;241m.\u001b[39msum(axis\u001b[38;5;241m=\u001b[39m\u001b[38;5;241m0\u001b[39m)\n\u001b[0;32m     20\u001b[0m connection_F[map_to] \u001b[38;5;241m=\u001b[39m \u001b[38;5;241m-\u001b[39m\u001b[38;5;241m1\u001b[39m\n\u001b[0;32m     21\u001b[0m v \u001b[38;5;241m=\u001b[39m connection_F\u001b[38;5;241m.\u001b[39margmax()\n",
      "\u001b[1;31mKeyboardInterrupt\u001b[0m: "
     ]
    }
   ],
   "source": [
    "map_from = []\n",
    "map_to = []\n",
    "mapping = -np.ones(n,dtype=int)\n",
    "c = 0.0001\n",
    "\n",
    "priority = c*A.sum(axis=1)\n",
    "base_F = c*B.sum(axis=1)\n",
    "\n",
    "for i in range(n):\n",
    "\n",
    "    u = priority.argmax()\n",
    "\n",
    "    in_neighbors = np.flatnonzero(A[:,u])\n",
    "    mapped_in_neighbors = in_neighbors[mapping[in_neighbors] != -1]\n",
    "\n",
    "    connection_F = base_F.copy()\n",
    "\n",
    "    connection_F += np.minimum(A[mapped_in_neighbors,u,None],B[mapping[mapped_in_neighbors],:]).sum(axis=0)\n",
    "\n",
    "    connection_F[map_to] = -1\n",
    "    v = connection_F.argmax()\n",
    "    map_from.append(u)\n",
    "    map_to.append(v)\n",
    "    mapping[u] = v\n",
    "\n",
    "    priority += A[u,:]\n",
    "    priority[map_from] = -1\n",
    "\n",
    "    print(f\"{i=}\",end=\"\\r\")\n",
    "\n",
    "#mapping[map_from] = map_to\n",
    "mapping\n"
   ]
  },
  {
   "cell_type": "code",
   "execution_count": 29,
   "metadata": {},
   "outputs": [
    {
     "data": {
      "text/plain": [
       "(45445.0, 45041.0, 1349587.0, 5154247.0)"
      ]
     },
     "execution_count": 29,
     "metadata": {},
     "output_type": "execute_result"
    }
   ],
   "source": [
    "from algorithms import invert\n",
    "score(M,F,np.arange(n)), score(M,F,mapping), score(M,F,invert(mapping)), score(M,F,benchmark_mapping)"
   ]
  },
  {
   "cell_type": "code",
   "execution_count": null,
   "metadata": {},
   "outputs": [],
   "source": [
    "\n",
    "triangles = 0\n",
    "for u in range(n):\n",
    "    neighbors = np.flatnonzero(C[u,:])\n",
    "    local_triangles = 0\n",
    "    for v in neighbors:\n",
    "        local_triangles += C[[v],neighbors].sum()\n",
    "\n",
    "    triangles += local_triangles\n",
    "    if local_triangles > len(neighbors)**2:\n",
    "        raise Exception(\"Too many triangles\")\n",
    "\n",
    "    print(f\"{u=}\",end=\"\\r\")\n",
    "triangles"
   ]
  },
  {
   "cell_type": "code",
   "execution_count": null,
   "metadata": {},
   "outputs": [
    {
     "data": {
      "text/plain": [
       "(83, 2166, 0.31441428364058643)"
      ]
     },
     "execution_count": 37,
     "metadata": {},
     "output_type": "execute_result"
    }
   ],
   "source": [
    "neighbors = np.flatnonzero(M[[8976],:].todense())\n",
    "subgraph = M[neighbors[:,None],neighbors[None,:]]\n",
    "m=len(neighbors)\n",
    "e=subgraph.count_nonzero()\n",
    "m,e,e/m**2"
   ]
  },
  {
   "cell_type": "code",
   "execution_count": 3,
   "metadata": {},
   "outputs": [],
   "source": [
    "def get_best_connected(X, m:int):\n",
    "    total_degrees = (X!=0).sum(axis=1)+(X!=0).sum(axis = 0)\n",
    "    index_order = np.argsort(total_degrees)\n",
    "    U = index_order[-m:]\n",
    "    return X[U[:,None],U[None,:]], index_order[-m:]"
   ]
  },
  {
   "cell_type": "code",
   "execution_count": 4,
   "metadata": {},
   "outputs": [
    {
     "data": {
      "text/plain": [
       "(0.5872, 0.3272)"
      ]
     },
     "execution_count": 4,
     "metadata": {},
     "output_type": "execute_result"
    }
   ],
   "source": [
    "m=50\n",
    "H_M,M_positions = get_best_connected(M,m)\n",
    "H_F,F_positions = get_best_connected(F,m)\n",
    "H_M = H_M.todense()\n",
    "H_F = H_F.todense()\n",
    "np.count_nonzero(H_M)/m**2, np.count_nonzero(H_F)/m**2"
   ]
  },
  {
   "cell_type": "code",
   "execution_count": 66,
   "metadata": {},
   "outputs": [
    {
     "name": "stdout",
     "output_type": "stream",
     "text": [
      "Starting score=1099.0\n",
      "Final score=2409.0\n"
     ]
    }
   ],
   "source": [
    "from algorithms import random_swaps\n",
    "H_mapping = np.arange(m)\n",
    "\n",
    "print(f\"Starting score={score(H_F,H_M,H_mapping)}\")\n",
    "random_swaps(H_F, H_M,H_mapping,steps=100000)\n",
    "print(f\"Final score={score(H_F,H_M,H_mapping)}\")"
   ]
  },
  {
   "cell_type": "code",
   "execution_count": 69,
   "metadata": {},
   "outputs": [
    {
     "name": "stdout",
     "output_type": "stream",
     "text": [
      "i=18473\r"
     ]
    }
   ],
   "source": [
    "from algorithms import greedy_mapping\n",
    "start_mapping=-np.ones(n,dtype=int)\n",
    "start_mapping[F_positions] = M_positions[H_mapping]\n",
    "mapping = greedy_mapping(B,A,start_mapping)"
   ]
  },
  {
   "cell_type": "code",
   "execution_count": 15,
   "metadata": {},
   "outputs": [],
   "source": [
    "np.save(\"Mapping-06-12-24 (2.5Mio).arr\",mapping)"
   ]
  },
  {
   "cell_type": "code",
   "execution_count": null,
   "metadata": {},
   "outputs": [
    {
     "name": "stdout",
     "output_type": "stream",
     "text": [
      "Self score=8664.0\n",
      "Starting score=2468.0\n",
      "i=99999, s=2493.0\n",
      " Final score=2493.0\n"
     ]
    }
   ],
   "source": [
    "swaps = 100000\n",
    "G=H_F\n",
    "H=H_M\n",
    "print(f\"Self score={score(H,H,np.arange(m))}\")\n",
    "print(f\"Starting score={score(G,H,H_mapping)}\")\n",
    "\n",
    "s = score(G,H,H_mapping)\n",
    "test = np.zeros(m,dtype=int)\n",
    "\n",
    "for i in range(swaps):\n",
    "    np.copyto(test,H_mapping)\n",
    "\n",
    "    k=2+rng.poisson(0.5)\n",
    "\n",
    "    v = rng.choice(m,k,replace=False)\n",
    "    for j in range(k):\n",
    "        test[v[j]] = H_mapping[v[(j+1)%k]]\n",
    "\n",
    "    t = score(G,H,test)\n",
    "    if t>s:\n",
    "        s=t\n",
    "        tmp = H_mapping\n",
    "        H_mapping = test\n",
    "        test = tmp\n",
    "\n",
    "    print(f\"{i=}, {s=}\",end=\"\\r\")\n",
    "\n",
    "print(f\"\\n Final score={score(G,H,H_mapping)}\")"
   ]
  },
  {
   "cell_type": "code",
   "execution_count": null,
   "metadata": {},
   "outputs": [
    {
     "name": "stdout",
     "output_type": "stream",
     "text": [
      "Starting score=5805.0\n",
      "i=10, score(H_F,H_M,H_mapping)=19371.0\n",
      " No change made on iteration 10.\n",
      "\n",
      " Final score=19371.0\n"
     ]
    }
   ],
   "source": [
    "from algorithms import swap_score\n",
    "\n",
    "rng = np.random.default_rng()\n",
    "H_mapping = rng.permutation(m)\n",
    "print(f\"Starting score={score(H_F,H_M,H_mapping)}\")\n",
    "\n",
    "swaps = 100\n",
    "\n",
    "for i in range(swaps):\n",
    "    change_made = False\n",
    "    for u in range(m):\n",
    "        for v in range(m):\n",
    "            if u == v:\n",
    "                continue\n",
    "\n",
    "            if swap_score(H_F,H_M,H_mapping,u,v)>0:\n",
    "                tmp = H_mapping[u]\n",
    "                H_mapping[u] = H_mapping[v]\n",
    "                H_mapping[v] = tmp\n",
    "                change_made = True\n",
    "                break\n",
    "\n",
    "    print(f\"{i=}, {score(H_F,H_M,H_mapping)=}\",end=\"\\r\")\n",
    "    if not change_made:\n",
    "        print(f\"\\n No change made on iteration {i}.\")\n",
    "        break\n",
    "\n",
    "print(f\"\\n Final score={score(H_F,H_M,H_mapping)}\")\n",
    "    "
   ]
  },
  {
   "cell_type": "code",
   "execution_count": null,
   "metadata": {},
   "outputs": [],
   "source": [
    "rng = np.random.default_rng()"
   ]
  },
  {
   "cell_type": "code",
   "execution_count": 72,
   "metadata": {},
   "outputs": [],
   "source": [
    "from algorithms import random_swaps\n",
    "\n",
    "def random_graph(n):\n",
    "\n",
    "    G = rng.integers(2,size=(n,n))\n",
    "    G[np.arange(n),np.arange(n)] = 0\n",
    "    return G\n",
    "\n",
    "def find_preferences(G,H,iterations = 100, swaps = 10000,verbose=True):\n",
    "\n",
    "    m = G.shape[0]\n",
    "    result_matrix = np.zeros((m,m),dtype=int)\n",
    "\n",
    "    for k in range(iterations):\n",
    "\n",
    "        mapping = rng.permutation(m)\n",
    "        random_swaps(G,H,mapping,swaps,verbose=False)\n",
    "        np.add.at(result_matrix,(np.arange(m),mapping),1)\n",
    "        if verbose:\n",
    "            print(f\"{k=}\"+\" \" * 20,end=\"\\r\")\n",
    "\n",
    "    return result_matrix\n",
    "\n",
    "def generate_hint(G,H,iterations,swaps):\n",
    "\n",
    "    m = G.shape[0]\n",
    "    result_matrix = find_preferences(G,H,iterations,swaps)\n",
    "    best=result_matrix.argmax(axis=1)\n",
    "    best_scores = result_matrix[np.arange(m),best]\n",
    "\n",
    "    score_list = best_scores.argsort()[::-1]\n",
    "    mapping = -np.ones(m,dtype=int)\n",
    "    inverse = -np.ones(m,dtype=int)\n",
    "\n",
    "    for u in score_list:\n",
    "        if inverse[best[u]] == -1:\n",
    "            mapping[u] = best[u]\n",
    "            inverse[best[u]] = u\n",
    "        else:\n",
    "            break\n",
    "\n",
    "    unmapped_sources = np.flatnonzero(mapping==-1)\n",
    "    unmapped_targets = np.flatnonzero(inverse==-1)\n",
    "    mapping[unmapped_sources] = rng.permutation(unmapped_targets)\n",
    "\n",
    "    return mapping\n",
    "\n",
    "def shuffle_graph(G):\n",
    "\n",
    "    n = G.shape[0]\n",
    "    shuffle = rng.permutation(n)\n",
    "    H = G[shuffle[:,None],shuffle[None,:]]\n",
    "    return H, shuffle"
   ]
  },
  {
   "cell_type": "code",
   "execution_count": null,
   "metadata": {},
   "outputs": [
    {
     "name": "stdout",
     "output_type": "stream",
     "text": [
      "i=9999                  \r"
     ]
    },
    {
     "data": {
      "text/plain": [
       "(1274, 1274)"
      ]
     },
     "execution_count": 83,
     "metadata": {},
     "output_type": "execute_result"
    }
   ],
   "source": [
    "m=50\n",
    "G=random_graph(m)\n",
    "H,shuffle=shuffle_graph(G)\n",
    "#candidates = np.concatenate([shuffle[best,None],np.arange(m)[:,None]],axis=1)[best_scores >50]\n",
    "mapping=generate_hint(G,H,100,10000)\n",
    "random_swaps(G,H,mapping,10000)\n",
    "score(G,H,mapping),score(G,G,np.arange(m))"
   ]
  }
 ],
 "metadata": {
  "kernelspec": {
   "display_name": "Python 3",
   "language": "python",
   "name": "python3"
  },
  "language_info": {
   "codemirror_mode": {
    "name": "ipython",
    "version": 3
   },
   "file_extension": ".py",
   "mimetype": "text/x-python",
   "name": "python",
   "nbconvert_exporter": "python",
   "pygments_lexer": "ipython3",
   "version": "3.10.8"
  }
 },
 "nbformat": 4,
 "nbformat_minor": 2
}

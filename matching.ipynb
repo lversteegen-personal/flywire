{
 "cells": [
  {
   "cell_type": "code",
   "execution_count": 1,
   "metadata": {},
   "outputs": [
    {
     "ename": "KeyboardInterrupt",
     "evalue": "",
     "output_type": "error",
     "traceback": [
      "\u001b[1;31m---------------------------------------------------------------------------\u001b[0m",
      "\u001b[1;31mKeyboardInterrupt\u001b[0m                         Traceback (most recent call last)",
      "Cell \u001b[1;32mIn [1], line 3\u001b[0m\n\u001b[0;32m      1\u001b[0m \u001b[38;5;28;01mimport\u001b[39;00m \u001b[38;5;21;01mnumpy\u001b[39;00m \u001b[38;5;28;01mas\u001b[39;00m \u001b[38;5;21;01mnp\u001b[39;00m\n\u001b[0;32m      2\u001b[0m \u001b[38;5;28;01mimport\u001b[39;00m \u001b[38;5;21;01mscipy\u001b[39;00m \u001b[38;5;28;01mas\u001b[39;00m \u001b[38;5;21;01msp\u001b[39;00m\n\u001b[1;32m----> 3\u001b[0m \u001b[38;5;28;01mfrom\u001b[39;00m \u001b[38;5;21;01mutility\u001b[39;00m \u001b[38;5;28;01mimport\u001b[39;00m M,F, benchmark_mapping, get_best_connected, invert, score\n\u001b[0;32m      5\u001b[0m n \u001b[38;5;241m=\u001b[39m M\u001b[38;5;241m.\u001b[39mshape[\u001b[38;5;241m0\u001b[39m]\n",
      "File \u001b[1;32mc:\\Users\\leove\\OneDrive\\Documents\\Selberprogrammiertes\\flywire\\utility.py:65\u001b[0m\n\u001b[0;32m     62\u001b[0m         \u001b[38;5;28;01mreturn\u001b[39;00m np\u001b[38;5;241m.\u001b[39mminimum(G,H[mapping[:,\u001b[38;5;28;01mNone\u001b[39;00m],mapping[\u001b[38;5;28;01mNone\u001b[39;00m,:]])\u001b[38;5;241m.\u001b[39msum()\n\u001b[0;32m     64\u001b[0m M \u001b[38;5;241m=\u001b[39m get_csr_matrix(male_edges)\n\u001b[1;32m---> 65\u001b[0m F \u001b[38;5;241m=\u001b[39m \u001b[43mget_csr_matrix\u001b[49m\u001b[43m(\u001b[49m\u001b[43mfemale_edges\u001b[49m\u001b[43m)\u001b[49m\n\u001b[0;32m     67\u001b[0m n\u001b[38;5;241m=\u001b[39mM\u001b[38;5;241m.\u001b[39mshape[\u001b[38;5;241m0\u001b[39m]\n\u001b[0;32m     69\u001b[0m benchmark_mapping \u001b[38;5;241m=\u001b[39m np\u001b[38;5;241m.\u001b[39mzeros(n,dtype\u001b[38;5;241m=\u001b[39m\u001b[38;5;28mint\u001b[39m)\n",
      "File \u001b[1;32mc:\\Users\\leove\\OneDrive\\Documents\\Selberprogrammiertes\\flywire\\utility.py:25\u001b[0m, in \u001b[0;36mget_csr_matrix\u001b[1;34m(edges)\u001b[0m\n\u001b[0;32m     23\u001b[0m \u001b[38;5;28;01mfor\u001b[39;00m (u,v), weight \u001b[38;5;129;01min\u001b[39;00m edges\u001b[38;5;241m.\u001b[39mitems():\n\u001b[0;32m     24\u001b[0m     coords[\u001b[38;5;241m0\u001b[39m]\u001b[38;5;241m.\u001b[39mappend(u\u001b[38;5;241m-\u001b[39m\u001b[38;5;241m1\u001b[39m)\n\u001b[1;32m---> 25\u001b[0m     \u001b[43mcoords\u001b[49m\u001b[43m[\u001b[49m\u001b[38;5;241;43m1\u001b[39;49m\u001b[43m]\u001b[49m\u001b[38;5;241;43m.\u001b[39;49m\u001b[43mappend\u001b[49m\u001b[43m(\u001b[49m\u001b[43mv\u001b[49m\u001b[38;5;241;43m-\u001b[39;49m\u001b[38;5;241;43m1\u001b[39;49m\u001b[43m)\u001b[49m\n\u001b[0;32m     26\u001b[0m     data\u001b[38;5;241m.\u001b[39mappend(weight)\n\u001b[0;32m     28\u001b[0m M\u001b[38;5;241m=\u001b[39msp\u001b[38;5;241m.\u001b[39msparse\u001b[38;5;241m.\u001b[39mcoo_array((data,coords))\u001b[38;5;241m.\u001b[39mastype(dtype\u001b[38;5;241m=\u001b[39m\u001b[38;5;28mint\u001b[39m)\u001b[38;5;241m.\u001b[39mtocsr()\n",
      "\u001b[1;31mKeyboardInterrupt\u001b[0m: "
     ]
    }
   ],
   "source": [
    "import numpy as np\n",
    "import scipy as sp\n",
    "from utility import get_best_connected, invert, score\n",
    "from data_loader import M,F, benchmark_mapping\n",
    "n = M.shape[0]"
   ]
  },
  {
   "cell_type": "code",
   "execution_count": 3,
   "metadata": {},
   "outputs": [],
   "source": [
    "A = M.todense()\n",
    "B = F.todense()"
   ]
  },
  {
   "cell_type": "code",
   "execution_count": null,
   "metadata": {},
   "outputs": [
    {
     "data": {
      "text/plain": [
       "(0.34615, 0.1805)"
      ]
     },
     "execution_count": 144,
     "metadata": {},
     "output_type": "execute_result"
    }
   ],
   "source": [
    "m=200\n",
    "H_M,M_positions = get_best_connected(M,m)\n",
    "H_F,F_positions = get_best_connected(F,m)\n",
    "H_M = H_M.todense()\n",
    "H_F = H_F.todense()\n",
    "H_F[np.arange(m),np.arange(m)] = 0\n",
    "H_M[np.arange(m),np.arange(m)] = 0\n",
    "np.count_nonzero(H_M)/m**2, np.count_nonzero(H_F)/m**2"
   ]
  },
  {
   "cell_type": "code",
   "execution_count": 108,
   "metadata": {},
   "outputs": [
    {
     "name": "stdout",
     "output_type": "stream",
     "text": [
      "Self score=31926.0\n",
      "Starting score=6353.0\n",
      "i=99999, s=6740.0\n",
      " Final score=6740.0\n"
     ]
    }
   ],
   "source": [
    "swaps = 100000\n",
    "G=H_F\n",
    "H=H_M\n",
    "print(f\"Self score={score(H,H,np.arange(m))}\")\n",
    "print(f\"Starting score={score(G,H,H_mapping)}\")\n",
    "\n",
    "s = score(G,H,H_mapping)\n",
    "test = np.zeros(m,dtype=int)\n",
    "\n",
    "for i in range(swaps):\n",
    "    np.copyto(test,H_mapping)\n",
    "\n",
    "    k=2+rng.poisson(0.5)\n",
    "\n",
    "    v = rng.choice(m,k,replace=False)\n",
    "    for j in range(k):\n",
    "        test[v[j]] = H_mapping[v[(j+1)%k]]\n",
    "\n",
    "    t = score(G,H,test)\n",
    "    if t>s:\n",
    "        s=t\n",
    "        tmp = H_mapping\n",
    "        H_mapping = test\n",
    "        test = tmp\n",
    "\n",
    "    print(f\"{i=}, {s=}\",end=\"\\r\")\n",
    "\n",
    "print(f\"\\n Final score={score(G,H,H_mapping)}\")"
   ]
  },
  {
   "cell_type": "code",
   "execution_count": 3,
   "metadata": {},
   "outputs": [],
   "source": [
    "rng = np.random.default_rng()"
   ]
  },
  {
   "cell_type": "code",
   "execution_count": 80,
   "metadata": {},
   "outputs": [],
   "source": [
    "from algorithms import random_swaps, invert\n",
    "\n",
    "def find_preferences(G,H,iterations = 100, swaps = 10000, start_mapping=None, verbose=True):\n",
    "\n",
    "    m = G.shape[0]\n",
    "    result_matrix = np.zeros((m,m),dtype=int)\n",
    "\n",
    "    if start_mapping is None:\n",
    "        unmapped_sources = np.arange(m)\n",
    "        unmapped_targets = np.arange(m)\n",
    "        start_mapping = np.arange(m)\n",
    "    else:\n",
    "        unmapped_sources = np.flatnonzero(start_mapping==-1)\n",
    "        unmapped_targets = np.ones(m,dtype=bool)\n",
    "        unmapped_targets[start_mapping[start_mapping!=-1]] = False\n",
    "        unmapped_targets = np.flatnonzero(unmapped_targets)\n",
    "\n",
    "    for k in range(iterations):\n",
    "\n",
    "        mapping = start_mapping.copy()\n",
    "        mapping[unmapped_sources] = rng.permutation(unmapped_targets)\n",
    "        random_swaps(G,H,mapping,swaps,verbose=False)\n",
    "        np.add.at(result_matrix,(np.arange(m),mapping),1)\n",
    "        if verbose:\n",
    "            print(f\"{k=}\"+\" \" * 20,end=\"\\r\")\n",
    "\n",
    "    return result_matrix\n",
    "\n",
    "def generate_hint(G,H,iterations,swaps, start_mapping=None):\n",
    "\n",
    "    m = G.shape[0]\n",
    "    result_matrix = find_preferences(G,H,iterations,swaps,start_mapping)\n",
    "    best=result_matrix.argmax(axis=1)\n",
    "    best_scores = result_matrix[np.arange(m),best]\n",
    "\n",
    "    score_list = best_scores.argsort()[::-1]\n",
    "    mapping = -np.ones(m,dtype=int)\n",
    "    inverse = -np.ones(m,dtype=int)\n",
    "\n",
    "    for u in score_list:\n",
    "        if inverse[best[u]] == -1:\n",
    "            mapping[u] = best[u]\n",
    "            inverse[best[u]] = u\n",
    "\n",
    "    unmapped_sources = np.flatnonzero(mapping==-1)\n",
    "    unmapped_targets = np.flatnonzero(inverse==-1)\n",
    "    mapping[unmapped_sources] = rng.permutation(unmapped_targets)\n",
    "\n",
    "    return mapping, result_matrix"
   ]
  },
  {
   "cell_type": "code",
   "execution_count": 104,
   "metadata": {},
   "outputs": [
    {
     "name": "stdout",
     "output_type": "stream",
     "text": [
      "i=9999                  \r"
     ]
    },
    {
     "data": {
      "text/plain": [
       "(6637.0, 22239.0)"
      ]
     },
     "execution_count": 104,
     "metadata": {},
     "output_type": "execute_result"
    }
   ],
   "source": [
    "start_mapping=-np.ones(m,dtype=int)\n",
    "start_mapping[[71,7]]=[69,67]\n",
    "mapping, matrix=generate_hint(G,H,100,10000,start_mapping)\n",
    "random_swaps(G,H,mapping,10000)\n",
    "score(G,H,mapping),score(G,G,np.arange(m))"
   ]
  }
 ],
 "metadata": {
  "kernelspec": {
   "display_name": "Python 3",
   "language": "python",
   "name": "python3"
  },
  "language_info": {
   "codemirror_mode": {
    "name": "ipython",
    "version": 3
   },
   "file_extension": ".py",
   "mimetype": "text/x-python",
   "name": "python",
   "nbconvert_exporter": "python",
   "pygments_lexer": "ipython3",
   "version": "3.10.8"
  }
 },
 "nbformat": 4,
 "nbformat_minor": 2
}

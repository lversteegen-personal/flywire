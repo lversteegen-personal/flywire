{
 "cells": [
  {
   "cell_type": "code",
   "execution_count": 1,
   "metadata": {},
   "outputs": [],
   "source": [
    "import numpy as np\n",
    "import scipy as sp\n",
    "from utility import get_best_connected, invert, score, get_highest_out_degrees\n",
    "from data_loader import M,F, benchmark_mapping\n",
    "rng = np.random.default_rng(0)"
   ]
  },
  {
   "cell_type": "markdown",
   "metadata": {},
   "source": [
    "The matrices M and F are just about small enough to fit into memory as dense matrices. We convert them for greater flexibility and calculate the sum of all weights in either matrix."
   ]
  },
  {
   "cell_type": "code",
   "execution_count": 2,
   "metadata": {},
   "outputs": [
    {
     "name": "stdout",
     "output_type": "stream",
     "text": [
      "Number of vertices: 18524\n",
      "Total number of edges A: 25678942\n",
      "Total number of edges B: 8900885\n"
     ]
    }
   ],
   "source": [
    "A=M.todense()\n",
    "B=F.todense()\n",
    "N=A.shape[0]\n",
    "print(f\"Number of vertices: {N}\")\n",
    "print(f\"Total number of edges A: {np.sum(A)}\")\n",
    "print(f\"Total number of edges B: {np.sum(B)}\")"
   ]
  },
  {
   "cell_type": "markdown",
   "metadata": {},
   "source": [
    "To simplify analysis and algorithms, we remove loops from the graph and compute the sum of the remaining weights. It turns out that the male connectome has a total of only 7 of its weight in loops, which justifies the removal of loops for the purpose of analysing the similarity between A and B."
   ]
  },
  {
   "cell_type": "code",
   "execution_count": 3,
   "metadata": {},
   "outputs": [
    {
     "name": "stdout",
     "output_type": "stream",
     "text": [
      "Total non-loop edge weights A: 25678935\n",
      "Totoal non-loop edge weights B: 8605287\n",
      "Number of edges A: 4158055\n",
      "Number of edges B: 2190669\n"
     ]
    }
   ],
   "source": [
    "A[np.arange(N),np.arange(N)]=0\n",
    "B[np.arange(N),np.arange(N)]=0\n",
    "print(f\"Total non-loop edge weights A: {A.sum()}\")\n",
    "print(f\"Totoal non-loop edge weights B: {B.sum()}\")\n",
    "print(f\"Number of edges A: {np.count_nonzero(A)}\")\n",
    "print(f\"Number of edges B: {np.count_nonzero(B)}\")"
   ]
  },
  {
   "cell_type": "markdown",
   "metadata": {},
   "source": [
    "Both the numbers of edges and the edge weight totals of the two graphs are quite different between the two graphs, especially since they are supposed to represent the brains of two individuals of the same species. To get a better feeling for the graphs and their similarities, we make two histograms comparing their total degrees, i.e. the sum of the weights of the in- and out-degrees of each vertex. Since the distribution is rather widespread, we use logarithmic scales. The logarithmic nature of the histograms hides the fact that one vertex of $F$ has total degree 0, i.e., is isolated."
   ]
  },
  {
   "cell_type": "code",
   "execution_count": 22,
   "metadata": {},
   "outputs": [
    {
     "data": {
      "image/png": "[encoded data removed]",
      "text/plain": [
       "<Figure size 1000x500 with 2 Axes>"
      ]
     },
     "metadata": {},
     "output_type": "display_data"
    }
   ],
   "source": [
    "import matplotlib.pyplot as plt\n",
    "\n",
    "total_degrees_M = (M!=0).astype(dtype=int).sum(axis=1)+(M!=0).astype(dtype=int).sum(axis=0)\n",
    "total_degrees_F = (F!=0).astype(dtype=int).sum(axis=1)+(F!=0).astype(dtype=int).sum(axis=0)\n",
    "total_max = max(total_degrees_M.max(), total_degrees_F.max())\n",
    "\n",
    "figure, subplots = plt.subplots(1, 2)\n",
    "figure.set_size_inches(10, 5)\n",
    "\n",
    "values, edges=np.histogram(total_degrees_M, [2**k for k in range(int(np.log2(total_max))+1)])\n",
    "patch = subplots[0].stairs(values, edges)\n",
    "subplots[0].set_title(\"M\")\n",
    "subplots[0].set_xlabel(\"Sum of weights of in- and out-edges\")\n",
    "subplots[0].set_ylabel(\"Number of vertices\")\n",
    "patch.axes.set_xscale(\"log\")\n",
    "patch.axes.set_yscale(\"log\")\n",
    "patch.axes.set_xlim(.5, total_max)\n",
    "\n",
    "values, edges=np.histogram(total_degrees_F, [2**k for k in range(int(np.log2(total_max))+1)])\n",
    "patch = subplots[1].stairs(values, edges)\n",
    "subplots[1].set_title(\"F\")\n",
    "subplots[1].set_xlabel(\"Sum of weights of in- and out-edges\")\n",
    "subplots[1].set_ylabel(\"Number of vertices\")\n",
    "patch.axes.set_xscale(\"log\")\n",
    "patch.axes.set_yscale(\"log\")\n",
    "patch.axes.set_xlim(.5, total_max)\n",
    "\n",
    "plt.show()\n"
   ]
  },
  {
   "cell_type": "markdown",
   "metadata": {},
   "source": [
    "Despite the stark difference in the overall number of edges and the sum of their weights, these histograms look fairly similar. Let us now create a mapping, starting with a random permutation of $\\{1,\\ldots,N\\}$."
   ]
  },
  {
   "cell_type": "code",
   "execution_count": 27,
   "metadata": {},
   "outputs": [
    {
     "data": {
      "text/plain": [
       "5853772"
      ]
     },
     "execution_count": 27,
     "metadata": {},
     "output_type": "execute_result"
    }
   ],
   "source": [
    "rng = np.random.default_rng(0)\n",
    "mapping = rng.permutation(N)\n",
    "score(A,B,mapping)"
   ]
  },
  {
   "cell_type": "markdown",
   "metadata": {},
   "source": [
    "Of course, the score for a random mapping is not particularly impressive. Next we perform some greedy_swaps on it. We go through all vertices in a random order and find the swap that increases the overall score the most. This is then repeated ten times. To speed things up, we keep track of scores_by_vertex, where for a mapping $f$ and each vertex $u\\in [N]$, $scores_by_vertex[u]$ is defined as $$\\sum_{v\\in [N]} \\min(A[u,v],B[f[u],f[v]])+\\min(A[v,u],B[f[v],f[u]]).$$"
   ]
  },
  {
   "cell_type": "code",
   "execution_count": 28,
   "metadata": {},
   "outputs": [
    {
     "name": "stdout",
     "output_type": "stream",
     "text": [
      "i=0, j=0, score_track=5853772\n",
      "i=0, j=20, score_track=5853772\n",
      "i=0, j=40, score_track=5853772\n",
      "i=0, j=60, score_track=5853772\n",
      "i=0, j=80, score_track=5853772\n",
      "i=0, j=100, score_track=5853772\n"
     ]
    },
    {
     "ename": "KeyboardInterrupt",
     "evalue": "",
     "output_type": "error",
     "traceback": [
      "\u001b[1;31m---------------------------------------------------------------------------\u001b[0m",
      "\u001b[1;31mKeyboardInterrupt\u001b[0m                         Traceback (most recent call last)",
      "Cell \u001b[1;32mIn [28], line 8\u001b[0m\n\u001b[0;32m      6\u001b[0m \u001b[38;5;28;01mfor\u001b[39;00m i \u001b[38;5;129;01min\u001b[39;00m \u001b[38;5;28mrange\u001b[39m(\u001b[38;5;241m10\u001b[39m):\n\u001b[0;32m      7\u001b[0m   \u001b[38;5;28;01mfor\u001b[39;00m j,u \u001b[38;5;129;01min\u001b[39;00m \u001b[38;5;28menumerate\u001b[39m(rng\u001b[38;5;241m.\u001b[39mpermutation(N)):\n\u001b[1;32m----> 8\u001b[0m     improvement \u001b[38;5;241m=\u001b[39m \u001b[43mmake_best_swap\u001b[49m\u001b[43m(\u001b[49m\u001b[43mA\u001b[49m\u001b[43m,\u001b[49m\u001b[43mB\u001b[49m\u001b[43m,\u001b[49m\u001b[43mmapping\u001b[49m\u001b[43m,\u001b[49m\u001b[43mu\u001b[49m\u001b[43m,\u001b[49m\u001b[43mscores_by_vertex\u001b[49m\u001b[43m)\u001b[49m\n\u001b[0;32m      9\u001b[0m     score_track \u001b[38;5;241m+\u001b[39m\u001b[38;5;241m=\u001b[39m improvement\n\u001b[0;32m     10\u001b[0m     \u001b[38;5;28;01mif\u001b[39;00m j\u001b[38;5;241m%\u001b[39m\u001b[38;5;241m20\u001b[39m \u001b[38;5;241m==\u001b[39m \u001b[38;5;241m0\u001b[39m:\n",
      "File \u001b[1;32mc:\\Users\\leove\\OneDrive\\Documents\\Selberprogrammiertes\\flywire\\algorithms.py:280\u001b[0m, in \u001b[0;36mmake_best_swap\u001b[1;34m(G, H, mapping, u, scores_by_vertex, mask)\u001b[0m\n\u001b[0;32m    277\u001b[0m col \u001b[38;5;241m=\u001b[39m col[cnz]\n\u001b[0;32m    279\u001b[0m \u001b[38;5;28;01mif\u001b[39;00m mask \u001b[38;5;129;01mis\u001b[39;00m \u001b[38;5;28;01mNone\u001b[39;00m:\n\u001b[1;32m--> 280\u001b[0m     X \u001b[38;5;241m=\u001b[39m G[:,rnz[\u001b[38;5;28;01mNone\u001b[39;00m,:]]\u001b[38;5;241m.\u001b[39mreshape((m,\u001b[38;5;28;43mlen\u001b[39;49m\u001b[43m(\u001b[49m\u001b[43mrnz\u001b[49m\u001b[43m)\u001b[49m))\n\u001b[0;32m    281\u001b[0m     Y \u001b[38;5;241m=\u001b[39m G[cnz[:,\u001b[38;5;28;01mNone\u001b[39;00m],:]\u001b[38;5;241m.\u001b[39mreshape((\u001b[38;5;28mlen\u001b[39m(cnz),m))\n\u001b[0;32m    282\u001b[0m \u001b[38;5;28;01melse\u001b[39;00m:\n",
      "\u001b[1;31mKeyboardInterrupt\u001b[0m: "
     ]
    }
   ],
   "source": [
    "from algorithms import make_best_swap, get_scores_by_vertex\n",
    "\n",
    "scores_by_vertex = get_scores_by_vertex(A,B,mapping)\n",
    "score_track=scores_by_vertex.sum()//2\n",
    "\n",
    "for i in range(10):\n",
    "  for j,u in enumerate(rng.permutation(N)):\n",
    "    improvement = make_best_swap(A,B,mapping,u,scores_by_vertex)\n",
    "    score_track += improvement\n",
    "    if j%20 == 0:\n",
    "      print(f\"{i=}, {j=}, {score_track=}\",end=\"\\n\")"
   ]
  },
  {
   "cell_type": "code",
   "execution_count": 31,
   "metadata": {},
   "outputs": [],
   "source": [
    "from algorithms import get_scores_by_vertex\n",
    "scores_by_vertex = get_scores_by_vertex(A,B,mapping)\n",
    "max_by_vertex = get_scores_by_vertex(G,G,np.arange(N))"
   ]
  },
  {
   "cell_type": "code",
   "execution_count": 32,
   "metadata": {},
   "outputs": [],
   "source": [
    "coverage = scores_by_vertex/np.maximum(max_by_vertex,1)\n",
    "coverage[max_by_vertex==0] = 1"
   ]
  },
  {
   "cell_type": "code",
   "execution_count": 33,
   "metadata": {},
   "outputs": [
    {
     "data": {
      "image/png": "[encoded data removed]",
      "text/plain": [
       "<Figure size 640x480 with 1 Axes>"
      ]
     },
     "metadata": {},
     "output_type": "display_data"
    }
   ],
   "source": [
    "import matplotlib.pyplot as plt\n",
    "\n",
    "values, edges=np.histogram(coverage, bins=50,range=(0,1))\n",
    "patch = plt.stairs(values, edges)"
   ]
  },
  {
   "cell_type": "code",
   "execution_count": 29,
   "metadata": {},
   "outputs": [
    {
     "data": {
      "text/plain": [
       "9327"
      ]
     },
     "execution_count": 29,
     "metadata": {},
     "output_type": "execute_result"
    }
   ],
   "source": [
    "np.count_nonzero(mapping==inverse_benchmark)"
   ]
  }
 ],
 "metadata": {
  "kernelspec": {
   "display_name": "Python 3",
   "language": "python",
   "name": "python3"
  },
  "language_info": {
   "codemirror_mode": {
    "name": "ipython",
    "version": 3
   },
   "file_extension": ".py",
   "mimetype": "text/x-python",
   "name": "python",
   "nbconvert_exporter": "python",
   "pygments_lexer": "ipython3",
   "version": "3.10.8"
  }
 },
 "nbformat": 4,
 "nbformat_minor": 2
}

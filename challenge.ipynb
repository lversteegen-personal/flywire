{
 "cells": [
  {
   "cell_type": "code",
   "execution_count": 1,
   "metadata": {},
   "outputs": [],
   "source": [
    "import numpy as np\n",
    "import scipy as sp\n",
    "from utility import get_best_connected, invert, score, get_highest_out_degrees\n",
    "from data_loader import M,F, benchmark_mapping\n",
    "rng = np.random.default_rng(0)"
   ]
  },
  {
   "cell_type": "markdown",
   "metadata": {},
   "source": [
    "The matrices M and F are just about small enough to fit into memory as dense matrices. We convert them for greater flexibility and calculate the sum of all weights in either matrix."
   ]
  },
  {
   "cell_type": "code",
   "execution_count": 2,
   "metadata": {},
   "outputs": [
    {
     "name": "stdout",
     "output_type": "stream",
     "text": [
      "Number of vertices: 18524\n",
      "Total number of edges A: 25678942\n",
      "Total number of edges B: 8900885\n"
     ]
    }
   ],
   "source": [
    "A=M.todense()\n",
    "B=F.todense()\n",
    "N=A.shape[0]\n",
    "print(f\"Number of vertices: {N}\")\n",
    "print(f\"Total number of edges A: {np.sum(A)}\")\n",
    "print(f\"Total number of edges B: {np.sum(B)}\")"
   ]
  },
  {
   "cell_type": "markdown",
   "metadata": {},
   "source": [
    "To simplify analysis and algorithms, we remove loops from the graph and compute the sum of the remaining weights. It turns out that the male connectome has a total of only 7 of its weight in loops, which justifies the removal of loops for the purpose of analysing the similarity between A and B."
   ]
  },
  {
   "cell_type": "code",
   "execution_count": 3,
   "metadata": {},
   "outputs": [
    {
     "name": "stdout",
     "output_type": "stream",
     "text": [
      "Total non-loop edge weights A: 25678935\n",
      "Totoal non-loop edge weights B: 8605287\n",
      "Number of edges A: 4158055\n",
      "Number of edges B: 2190669\n"
     ]
    }
   ],
   "source": [
    "A[np.arange(N),np.arange(N)]=0\n",
    "B[np.arange(N),np.arange(N)]=0\n",
    "print(f\"Total non-loop edge weights A: {A.sum()}\")\n",
    "print(f\"Totoal non-loop edge weights B: {B.sum()}\")\n",
    "print(f\"Number of edges A: {np.count_nonzero(A)}\")\n",
    "print(f\"Number of edges B: {np.count_nonzero(B)}\")"
   ]
  },
  {
   "cell_type": "markdown",
   "metadata": {},
   "source": [
    "Both the numbers of edges and the edge weight totals of the two graphs are quite different between the two graphs, especially since they are supposed to represent the brains of two individuals of the same species. To get a better feeling for the graphs and their similarities, we make two histograms comparing their total degrees, i.e. the sum of the weights of the in- and out-degrees of each vertex. Since the distribution is rather widespread, we use logarithmic scales. The logarithmic nature of the histograms hides the fact that one vertex of $F$ has total degree 0, i.e., is isolated."
   ]
  },
  {
   "cell_type": "code",
   "execution_count": 22,
   "metadata": {},
   "outputs": [
    {
     "data": {
      "image/png": "[encoded data removed]",
      "text/plain": [
       "<Figure size 1000x500 with 2 Axes>"
      ]
     },
     "metadata": {},
     "output_type": "display_data"
    }
   ],
   "source": [
    "import matplotlib.pyplot as plt\n",
    "\n",
    "total_degrees_M = (M!=0).astype(dtype=int).sum(axis=1)+(M!=0).astype(dtype=int).sum(axis=0)\n",
    "total_degrees_F = (F!=0).astype(dtype=int).sum(axis=1)+(F!=0).astype(dtype=int).sum(axis=0)\n",
    "total_max = max(total_degrees_M.max(), total_degrees_F.max())\n",
    "\n",
    "figure, subplots = plt.subplots(1, 2)\n",
    "figure.set_size_inches(10, 5)\n",
    "\n",
    "values, edges=np.histogram(total_degrees_M, [2**k for k in range(int(np.log2(total_max))+1)])\n",
    "patch = subplots[0].stairs(values, edges)\n",
    "subplots[0].set_title(\"M\")\n",
    "subplots[0].set_xlabel(\"Sum of weights of in- and out-edges\")\n",
    "subplots[0].set_ylabel(\"Number of vertices\")\n",
    "patch.axes.set_xscale(\"log\")\n",
    "patch.axes.set_yscale(\"log\")\n",
    "patch.axes.set_xlim(.5, total_max)\n",
    "\n",
    "values, edges=np.histogram(total_degrees_F, [2**k for k in range(int(np.log2(total_max))+1)])\n",
    "patch = subplots[1].stairs(values, edges)\n",
    "subplots[1].set_title(\"F\")\n",
    "subplots[1].set_xlabel(\"Sum of weights of in- and out-edges\")\n",
    "subplots[1].set_ylabel(\"Number of vertices\")\n",
    "patch.axes.set_xscale(\"log\")\n",
    "patch.axes.set_yscale(\"log\")\n",
    "patch.axes.set_xlim(.5, total_max)\n",
    "\n",
    "plt.show()\n"
   ]
  },
  {
   "cell_type": "markdown",
   "metadata": {},
   "source": [
    "Despite the stark difference in the overall number of edges and the sum of their weights, these histograms look fairly similar. Let us now create a mapping, starting with a random permutation of $\\{1,\\ldots,N\\}$."
   ]
  },
  {
   "cell_type": "code",
   "execution_count": 29,
   "metadata": {},
   "outputs": [
    {
     "data": {
      "text/plain": [
       "45164"
      ]
     },
     "execution_count": 29,
     "metadata": {},
     "output_type": "execute_result"
    }
   ],
   "source": [
    "rng = np.random.default_rng(0)\n",
    "mapping = rng.permutation(N)\n",
    "score(A,B,mapping)"
   ]
  },
  {
   "cell_type": "markdown",
   "metadata": {},
   "source": [
    "Of course, the score for a random mapping is not particularly impressive. Next we perform some greedy_swaps on it. We go through all vertices in a random order and find the swap that increases the overall score the most. This is then repeated ten times. To speed things up, we keep track of scores_by_vertex, where for a mapping $f$ and each vertex $u\\in [N]$, we define $$scores\\_ by \\_ vertex_u=\\sum_{v\\in [N]} \\min(A_{uv},B_{f(u)f(v)})+\\min(A_{vu},B_{f(v)f(u)}).$$\n",
    "Doing ten iterations of this is still quite slow, and I recommend using the GPU version of this in cupy.ipynb instead, which runs about an order of magnitude faster or to load \"submission_mapping.npy\" instead."
   ]
  },
  {
   "cell_type": "code",
   "execution_count": null,
   "metadata": {},
   "outputs": [],
   "source": [
    "from algorithms import make_best_swap, get_scores_by_vertex\n",
    "\n",
    "scores_by_vertex = get_scores_by_vertex(A,B,mapping)\n",
    "score_track=scores_by_vertex.sum()//2\n",
    "\n",
    "for i in range(10):\n",
    "  for j,u in enumerate(rng.permutation(N)):\n",
    "    improvement = make_best_swap(A,B,mapping,u,scores_by_vertex)\n",
    "    score_track += improvement\n",
    "    if j%20 == 0:\n",
    "      print(f\"{i=}, {j=}, {score_track=}\",end=\"\\n\")"
   ]
  },
  {
   "cell_type": "markdown",
   "metadata": {},
   "source": [
    "Instead of continuing with the mapping built above, we load the mapping I ultimately submitted for the challenge."
   ]
  },
  {
   "cell_type": "code",
   "execution_count": 37,
   "metadata": {},
   "outputs": [],
   "source": [
    "mapping = np.load(\"submission mapping.npy\")"
   ]
  },
  {
   "cell_type": "markdown",
   "metadata": {},
   "source": [
    "I found it interesting to look at the typical \"saturation\" of a vertex, by which I mean how much of its edge weight contributed to the score. Since the sum of edge weights of $M$ is so much higher than that of $F$, the average saturation would be low even for an optimal mapping $f\\colon M\\rightarrow F$, which is why I considered the saturation with respect to the inverse $f^{-1} \\colon F\\rightarrow M$ instead. The following cell produces a histogram that shows the distribution of the saturation over the vertices."
   ]
  },
  {
   "cell_type": "code",
   "execution_count": 40,
   "metadata": {},
   "outputs": [
    {
     "data": {
      "image/png": "[encoded data removed]",
      "text/plain": [
       "<Figure size 640x480 with 1 Axes>"
      ]
     },
     "metadata": {},
     "output_type": "display_data"
    }
   ],
   "source": [
    "mapping = invert(mapping)\n",
    "scores_by_vertex = get_scores_by_vertex(B,A,mapping)\n",
    "max_by_vertex = get_scores_by_vertex(B,B,np.arange(N))\n",
    "coverage = scores_by_vertex/np.maximum(max_by_vertex,1)\n",
    "values, edges=np.histogram(coverage, bins=50,range=(0,1))\n",
    "patch = plt.stairs(values, edges)"
   ]
  }
 ],
 "metadata": {
  "kernelspec": {
   "display_name": "Python 3",
   "language": "python",
   "name": "python3"
  },
  "language_info": {
   "codemirror_mode": {
    "name": "ipython",
    "version": 3
   },
   "file_extension": ".py",
   "mimetype": "text/x-python",
   "name": "python",
   "nbconvert_exporter": "python",
   "pygments_lexer": "ipython3",
   "version": "3.10.8"
  }
 },
 "nbformat": 4,
 "nbformat_minor": 2
}

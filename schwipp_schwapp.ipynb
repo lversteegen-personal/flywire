{
 "cells": [
  {
   "cell_type": "code",
   "execution_count": 1,
   "metadata": {},
   "outputs": [],
   "source": [
    "import numpy as np\n",
    "import scipy as sp\n",
    "from utility import M,F, benchmark_mapping, get_best_connected, invert, score, get_highest_out_degrees"
   ]
  },
  {
   "cell_type": "code",
   "execution_count": 5,
   "metadata": {},
   "outputs": [],
   "source": [
    "def find_best_move(G,H, mapping, u, mask = None):\n",
    "\n",
    "    m = G.shape[0]\n",
    "    u_row = G[u,:]\n",
    "    u_col = G[:,u]\n",
    "\n",
    "    if mask is None:\n",
    "        n = H.shape[0]\n",
    "        X = H[:,mapping[None,:]].reshape((n,m))\n",
    "        Y = H[mapping[:,None],:].reshape((m,n))\n",
    "    else:\n",
    "        X = H[mask,mapping[None,:]]\n",
    "        n = X.shape[0]\n",
    "        X = X.reshape((n,m))\n",
    "        Y = H[mapping[:,None],mask].reshape((m,n))\n",
    "\n",
    "    scores = np.minimum(u_row[None,:],X).sum(axis=1) + np.minimum(u_col[:,None],Y).sum(axis=0)\n",
    "    scores -= np.minimum(G[u,u],H.diagonal())\n",
    "\n",
    "    return scores"
   ]
  },
  {
   "cell_type": "code",
   "execution_count": 36,
   "metadata": {},
   "outputs": [
    {
     "data": {
      "text/plain": [
       "(0.204576, 0.112264)"
      ]
     },
     "execution_count": 36,
     "metadata": {},
     "output_type": "execute_result"
    }
   ],
   "source": [
    "m,n = 50,500\n",
    "H_M,m_labels = get_highest_out_degrees(M,n)\n",
    "H_F,f_labels = get_highest_out_degrees(F,n)\n",
    "H_M = H_M.todense()\n",
    "H_F = H_F.todense()\n",
    "H_F[np.arange(n),np.arange(n)] = 0\n",
    "H_M[np.arange(n),np.arange(n)] = 0\n",
    "np.count_nonzero(H_M)/n**2, np.count_nonzero(H_F)/n**2"
   ]
  },
  {
   "cell_type": "code",
   "execution_count": 78,
   "metadata": {},
   "outputs": [
    {
     "name": "stdout",
     "output_type": "stream",
     "text": [
      "k=499, i=12, top_score=7610                    \r"
     ]
    }
   ],
   "source": [
    "rng = np.random.default_rng()\n",
    "result_matrix = np.zeros((n,n),dtype=int)\n",
    "score_track = []\n",
    "mapping_save = []\n",
    "\n",
    "for k in range(500):\n",
    "\n",
    "    mapping_M = rng.choice(n,m,replace=False)\n",
    "    mapping_F = rng.choice(n,m,replace=False)\n",
    "\n",
    "    for i in range(50):\n",
    "\n",
    "        outer_unchanged = True\n",
    "\n",
    "        if i % 2 == 0:\n",
    "            G = H_F[mapping_F[:,None],mapping_F[None,:]]\n",
    "            H = H_M\n",
    "            mapping = mapping_M.copy()\n",
    "        else:\n",
    "            G = H_M[mapping_M[:,None],mapping_M[None,:]]\n",
    "            H = H_F\n",
    "            mapping = mapping_F.copy()\n",
    "\n",
    "        unmapped = np.ones(n,dtype=bool)\n",
    "        unmapped[mapping] = False\n",
    "        top_score = score(G,H,mapping,require_surjective=False)\n",
    "        \n",
    "        for j in range(50):\n",
    "\n",
    "            unchanged = True\n",
    "\n",
    "            for u in rng.permutation(m):\n",
    "\n",
    "                change_scores = find_best_move(G,H,mapping,u)\n",
    "                v = (change_scores*unmapped).argmax()\n",
    "\n",
    "                if change_scores[v] > change_scores[mapping[u]]:\n",
    "                    top_score = top_score + change_scores[v]-change_scores[mapping[u]]\n",
    "\n",
    "                    unmapped[mapping[u]] = True\n",
    "                    unmapped[v] = False\n",
    "                    mapping[u] = v\n",
    "                    unchanged = False\n",
    "                    outer_unchanged = False\n",
    "\n",
    "            if unchanged:\n",
    "                break\n",
    "        \n",
    "        if i % 2 == 0:\n",
    "            mapping_M = mapping.copy()\n",
    "        else:\n",
    "            mapping_F = mapping.copy()\n",
    "\n",
    "        if outer_unchanged:\n",
    "            print(f\"{k=}, {i=}, {top_score=}\"+\" \"*20,end=\"\\r\")\n",
    "            break\n",
    "\n",
    "    A = H_F[mapping_F[:,None],mapping_F[None,:]]\n",
    "    B = H_M[mapping_M[:,None],mapping_M[None,:]]\n",
    "\n",
    "    score_track.append((score(G,H,mapping,require_surjective=False), score(A,A,np.arange(m)), score(B,B,np.arange(m))))\n",
    "    mapping_save.append((mapping_F,mapping_M))\n",
    "    result_matrix[mapping_F,mapping_M] += 1"
   ]
  },
  {
   "cell_type": "code",
   "execution_count": 125,
   "metadata": {},
   "outputs": [
    {
     "data": {
      "text/plain": [
       "array([ 9963, 22444, 21916], dtype=int32)"
      ]
     },
     "execution_count": 125,
     "metadata": {},
     "output_type": "execute_result"
    }
   ],
   "source": [
    "track = np.array(score_track)\n",
    "track[:,0].argmax()\n",
    "track[13]"
   ]
  },
  {
   "cell_type": "code",
   "execution_count": 109,
   "metadata": {},
   "outputs": [],
   "source": [
    "mapping_F,mapping_M=mapping_save[403]"
   ]
  },
  {
   "cell_type": "code",
   "execution_count": 95,
   "metadata": {},
   "outputs": [
    {
     "data": {
      "text/plain": [
       "array([10, 10, 10, 10, 10, 10, 10, 10, 10, 10, 11, 11, 11, 11, 11, 11, 11,\n",
       "       11, 11, 11, 11, 11, 11, 11, 11, 11, 11, 11, 12, 12, 12, 12, 12, 12,\n",
       "       12, 12, 13, 13, 13, 14, 14, 15, 15, 15, 15, 15, 15, 15, 17, 20])"
      ]
     },
     "execution_count": 95,
     "metadata": {},
     "output_type": "execute_result"
    }
   ],
   "source": [
    "np.unravel_index(result_matrix.argmax(),result_matrix.shape)\n",
    "m_labels[1],f_labels[27]\n",
    "sorted = np.sort(result_matrix.flatten())\n",
    "sorted[-50:]"
   ]
  },
  {
   "cell_type": "code",
   "execution_count": null,
   "metadata": {},
   "outputs": [],
   "source": [
    "np.concatenate([m_labels[mapping_M,None],f_labels[mapping_F,None]],axis=1)"
   ]
  },
  {
   "cell_type": "code",
   "execution_count": 106,
   "metadata": {},
   "outputs": [],
   "source": [
    "A=M.todense()\n",
    "B=F.todense()\n",
    "N=A.shape[0]"
   ]
  },
  {
   "cell_type": "code",
   "execution_count": null,
   "metadata": {},
   "outputs": [
    {
     "name": "stdout",
     "output_type": "stream",
     "text": [
      "i=18473\r"
     ]
    }
   ],
   "source": [
    "from algorithms import greedy_mapping\n",
    "start_mapping=-np.ones(N,dtype=int)\n",
    "inverse_benchmark = invert(benchmark_mapping)\n",
    "#start_mapping[f_labels[mapping_F]]=m_labels[mapping_M]\n",
    "random_set = rng.choice(N,500,replace=False)\n",
    "start_mapping[random_set] = inverse_benchmark[random_set]\n",
    "mapping = greedy_mapping(B,A,start_mapping)"
   ]
  },
  {
   "cell_type": "code",
   "execution_count": 127,
   "metadata": {},
   "outputs": [
    {
     "data": {
      "text/plain": [
       "(1382035, 5154247)"
      ]
     },
     "execution_count": 127,
     "metadata": {},
     "output_type": "execute_result"
    }
   ],
   "source": [
    "score(F,M,mapping),score(F,M,invert(benchmark_mapping))"
   ]
  },
  {
   "cell_type": "code",
   "execution_count": 123,
   "metadata": {},
   "outputs": [],
   "source": [
    "np.save(\"Mapping-11-12-24 (5.18Mio).arr\",mapping)"
   ]
  }
 ],
 "metadata": {
  "kernelspec": {
   "display_name": "Python 3",
   "language": "python",
   "name": "python3"
  },
  "language_info": {
   "codemirror_mode": {
    "name": "ipython",
    "version": 3
   },
   "file_extension": ".py",
   "mimetype": "text/x-python",
   "name": "python",
   "nbconvert_exporter": "python",
   "pygments_lexer": "ipython3",
   "version": "3.10.8"
  }
 },
 "nbformat": 4,
 "nbformat_minor": 2
}

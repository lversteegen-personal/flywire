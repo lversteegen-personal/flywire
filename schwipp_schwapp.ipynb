{
 "cells": [
  {
   "cell_type": "code",
   "execution_count": 1,
   "metadata": {},
   "outputs": [
    {
     "ename": "ModuleNotFoundError",
     "evalue": "No module named 'google.colab'",
     "output_type": "error",
     "traceback": [
      "\u001b[1;31m---------------------------------------------------------------------------\u001b[0m",
      "\u001b[1;31mModuleNotFoundError\u001b[0m                       Traceback (most recent call last)",
      "Cell \u001b[1;32mIn [1], line 2\u001b[0m\n\u001b[0;32m      1\u001b[0m \u001b[38;5;66;03m#Only run in colab\u001b[39;00m\n\u001b[1;32m----> 2\u001b[0m \u001b[38;5;28;01mfrom\u001b[39;00m \u001b[38;5;21;01mgoogle\u001b[39;00m\u001b[38;5;21;01m.\u001b[39;00m\u001b[38;5;21;01mcolab\u001b[39;00m \u001b[38;5;28;01mimport\u001b[39;00m drive\n\u001b[0;32m      3\u001b[0m drive\u001b[38;5;241m.\u001b[39mmount(\u001b[38;5;124m'\u001b[39m\u001b[38;5;124m/content/drive\u001b[39m\u001b[38;5;124m'\u001b[39m)\n\u001b[0;32m      4\u001b[0m get_ipython()\u001b[38;5;241m.\u001b[39mrun_line_magic(\u001b[38;5;124m'\u001b[39m\u001b[38;5;124mcd\u001b[39m\u001b[38;5;124m'\u001b[39m, \u001b[38;5;124m'\u001b[39m\u001b[38;5;124m/content/drive/MyDrive/Github/flywire\u001b[39m\u001b[38;5;124m'\u001b[39m)\n",
      "\u001b[1;31mModuleNotFoundError\u001b[0m: No module named 'google.colab'"
     ]
    }
   ],
   "source": [
    "#Only run in colab\n",
    "from google.colab import drive\n",
    "drive.mount('/content/drive')\n",
    "%cd /content/drive/MyDrive/Github/flywire"
   ]
  },
  {
   "cell_type": "code",
   "execution_count": 19,
   "metadata": {},
   "outputs": [],
   "source": [
    "import numpy as np\n",
    "import scipy as sp\n",
    "from utility import get_best_connected, invert, score, random_graph_dist, shuffle_graph, shuffle_cycles, get_cycles, random_extension, shuffle_map\n",
    "from algorithms import move_swap_optimization\n",
    "from data_loader import M,F, benchmark_mapping\n",
    "rng = np.random.default_rng(0)"
   ]
  },
  {
   "cell_type": "code",
   "execution_count": 4,
   "metadata": {},
   "outputs": [],
   "source": [
    "A=M.todense()\n",
    "B=F.todense()\n",
    "N=A.shape[0]\n",
    "A[np.arange(N),np.arange(N)]=0\n",
    "B[np.arange(N),np.arange(N)]=0"
   ]
  },
  {
   "cell_type": "code",
   "execution_count": 10,
   "metadata": {},
   "outputs": [
    {
     "name": "stdout",
     "output_type": "stream",
     "text": [
      "i=0, new_top_score=308689                                                                           \n",
      "i=1, new_top_score=309361                                                                           \n"
     ]
    }
   ],
   "source": [
    "from algorithms import move_swap_optimization\n",
    "\n",
    "m=800\n",
    "n=A.shape[0]\n",
    "#mapping_M = rng.choice(n,m,replace=False)\n",
    "#mapping_F = rng.choice(n,m,replace=False)\n",
    "\n",
    "def penalty_gradient(x):\n",
    "\n",
    "    return (x>0)*10000000\n",
    "\n",
    "top_score = 0\n",
    "\n",
    "for i in range(2):\n",
    "\n",
    "    outer_unchanged = True\n",
    "\n",
    "    if i % 2 == 0:\n",
    "        G = B[mapping_F[:,None],mapping_F[None,:]]\n",
    "        H = A\n",
    "        mapping = mapping_M.copy()\n",
    "    else:\n",
    "        G = A[mapping_M[:,None],mapping_M[None,:]]\n",
    "        H = B\n",
    "        mapping = mapping_F.copy()\n",
    "\n",
    "    mapping, new_top_score = move_swap_optimization(G,H,mapping,penalty_gradient=penalty_gradient,rng=rng,verbose=True)\n",
    "    \n",
    "    if i % 2 == 0:\n",
    "        mapping_M = mapping.copy()\n",
    "    else:\n",
    "        mapping_F = mapping.copy()\n",
    "\n",
    "    print(\" \"*100,end=\"\\r\")\n",
    "    print(f\"{i=}, {new_top_score=}\"+\" \"*20,end=\"\\n\")\n",
    "\n",
    "    if new_top_score == top_score:\n",
    "        break\n",
    "    else:\n",
    "        top_score = new_top_score\n",
    "\n",
    "mapping = random_extension(n,mapping_F,mapping_M,rng)"
   ]
  },
  {
   "cell_type": "code",
   "execution_count": 477,
   "metadata": {},
   "outputs": [
    {
     "data": {
      "text/plain": [
       "41800"
      ]
     },
     "execution_count": 477,
     "metadata": {},
     "output_type": "execute_result"
    }
   ],
   "source": [
    "n=500\n",
    "G = random_graph_dist(n,p=0.1,sample_source=lambda : int(1/np.sqrt(rng.random())),rng=rng)\n",
    "H,shuffle = shuffle_graph(G,rng=rng)\n",
    "\n",
    "sigma = rng.permutation(n)\n",
    "tau = rng.permutation(n)\n",
    "\n",
    "penalty_gradient = lambda x: (x>0)*10000000\n",
    "score(G,G,np.arange(n))"
   ]
  },
  {
   "cell_type": "code",
   "execution_count": null,
   "metadata": {},
   "outputs": [],
   "source": [
    "for i in range(10):\n",
    "    sigma, sigma_score = move_swap_optimization(G,H,sigma,penalty_gradient=penalty_gradient,max_epochs=10,verbose=False,randomize_argmax=True)\n",
    "    tau, tau_score = move_swap_optimization(G,H,tau,penalty_gradient=penalty_gradient,max_epochs=10,verbose=False,randomize_argmax=True)\n",
    "    rho = invert(sigma)[tau]\n",
    "    print(sigma_score,tau_score, len(get_cycles(rho)))\n",
    "\n",
    "    if sigma_score > tau_score:\n",
    "        tau = rng.permutation(n)#sigma[shuffle_cycles(rho)]\n",
    "    else:\n",
    "        sigma = rng.permutation(n)#tau[shuffle_cycles(rho)]"
   ]
  },
  {
   "cell_type": "code",
   "execution_count": 489,
   "metadata": {},
   "outputs": [
    {
     "name": "stdout",
     "output_type": "stream",
     "text": [
      "k=19                    \r"
     ]
    },
    {
     "data": {
      "text/plain": [
       "41800"
      ]
     },
     "execution_count": 489,
     "metadata": {},
     "output_type": "execute_result"
    }
   ],
   "source": [
    "def find_preferences(G,H,iterations = 100, method=None, rng = None, verbose=True):\n",
    "\n",
    "    n = G.shape[0]\n",
    "    result_matrix = np.zeros((n,n),dtype=int)\n",
    "\n",
    "    if rng is None:\n",
    "        rng = np.random.default_rng()\n",
    "\n",
    "    for k in range(iterations):\n",
    "\n",
    "        mapping = rng.permutation(n)\n",
    "        mapping, _ = method(G,H,mapping)\n",
    "\n",
    "        np.add.at(result_matrix,(np.arange(n),mapping),1)\n",
    "        if verbose:\n",
    "            print(f\"{k=}\"+\" \" * 20,end=\"\\r\")\n",
    "\n",
    "    return result_matrix\n",
    "\n",
    "method = lambda G,H,mapping : move_swap_optimization(G,H,mapping,penalty_gradient=penalty_gradient,max_epochs=3,verbose=False,randomize_argmax=True)\n",
    "result_matrix = find_preferences(G,H,iterations=20,method=method)\n",
    "\n",
    "best=result_matrix.argmax(axis=1)\n",
    "best_scores = result_matrix[np.arange(n),best]\n",
    "mapping,final_score=move_swap_optimization(G,H,best,penalty_gradient=penalty_gradient,max_epochs=10,verbose=False,randomize_argmax=True)\n",
    "final_score"
   ]
  },
  {
   "cell_type": "code",
   "execution_count": 8,
   "metadata": {},
   "outputs": [],
   "source": [
    "mapping0 = np.load(\"mappings\\Mapping-14-12-24 (5.82 Mio).npy\")\n",
    "mapping1 = np.load(\"mappings\\Mapping-09-01-25 sample1.npy\")\n",
    "mapping2 = np.load(\"mappings\\Mapping-09-01-25 sample2.npy\")\n",
    "mapping3 = np.load(\"mappings\\Mapping-09-01-25 sample3.npy\")\n",
    "G=B\n",
    "H=A"
   ]
  },
  {
   "cell_type": "code",
   "execution_count": 20,
   "metadata": {},
   "outputs": [
    {
     "name": "stdout",
     "output_type": "stream",
     "text": [
      "i=0, j=1800, score_track=781620, unique=18524          \r"
     ]
    },
    {
     "ename": "KeyboardInterrupt",
     "evalue": "",
     "output_type": "error",
     "traceback": [
      "\u001b[1;31m---------------------------------------------------------------------------\u001b[0m",
      "\u001b[1;31mKeyboardInterrupt\u001b[0m                         Traceback (most recent call last)",
      "Cell \u001b[1;32mIn [20], line 7\u001b[0m\n\u001b[0;32m      5\u001b[0m stable \u001b[38;5;241m=\u001b[39m (mapping0\u001b[38;5;241m==\u001b[39mmapping1) \u001b[38;5;241m&\u001b[39m (mapping1\u001b[38;5;241m==\u001b[39mmapping2) \u001b[38;5;241m&\u001b[39m (mapping2\u001b[38;5;241m==\u001b[39mmapping3)\n\u001b[0;32m      6\u001b[0m mapping \u001b[38;5;241m=\u001b[39m shuffle_map(mapping0,stable)\n\u001b[1;32m----> 7\u001b[0m \u001b[43mmove_swap_optimization\u001b[49m\u001b[43m(\u001b[49m\u001b[43mG\u001b[49m\u001b[43m,\u001b[49m\u001b[43mH\u001b[49m\u001b[43m,\u001b[49m\u001b[43mmapping\u001b[49m\u001b[43m,\u001b[49m\u001b[43mpenalty_gradient\u001b[49m\u001b[38;5;241;43m=\u001b[39;49m\u001b[43mpenalty_gradient\u001b[49m\u001b[43m,\u001b[49m\u001b[43mmax_epochs\u001b[49m\u001b[38;5;241;43m=\u001b[39;49m\u001b[38;5;241;43m5\u001b[39;49m\u001b[43m,\u001b[49m\u001b[43mverbose\u001b[49m\u001b[38;5;241;43m=\u001b[39;49m\u001b[38;5;28;43;01mTrue\u001b[39;49;00m\u001b[43m,\u001b[49m\u001b[43mrandomize_argmax\u001b[49m\u001b[38;5;241;43m=\u001b[39;49m\u001b[38;5;28;43;01mTrue\u001b[39;49;00m\u001b[43m)\u001b[49m\n",
      "File \u001b[1;32mc:\\Users\\leove\\OneDrive\\Documents\\Selberprogrammiertes\\flywire\\algorithms.py:429\u001b[0m, in \u001b[0;36mmove_swap_optimization\u001b[1;34m(G, H, start_mapping, penalty_gradient, rng, max_epochs, verbose, randomize_argmax)\u001b[0m\n\u001b[0;32m    426\u001b[0m \u001b[38;5;28;01mfor\u001b[39;00m j,u \u001b[38;5;129;01min\u001b[39;00m \u001b[38;5;28menumerate\u001b[39m(rng\u001b[38;5;241m.\u001b[39mpermutation(N)):\n\u001b[0;32m    428\u001b[0m     \u001b[38;5;28;01mif\u001b[39;00m randomize_argmax:\n\u001b[1;32m--> 429\u001b[0m         change,improvement \u001b[38;5;241m=\u001b[39m \u001b[43mmove_or_swap\u001b[49m\u001b[43m(\u001b[49m\u001b[43mG\u001b[49m\u001b[43m,\u001b[49m\u001b[43mH\u001b[49m\u001b[43m,\u001b[49m\u001b[43mmapping\u001b[49m\u001b[43m,\u001b[49m\u001b[43mu\u001b[49m\u001b[43m,\u001b[49m\u001b[43mscores_by_vertex\u001b[49m\u001b[43m,\u001b[49m\u001b[43musage\u001b[49m\u001b[43m,\u001b[49m\u001b[43mpenalty_gradient\u001b[49m\u001b[38;5;241;43m=\u001b[39;49m\u001b[43mpenalty_gradient\u001b[49m\u001b[43m,\u001b[49m\u001b[43mrng\u001b[49m\u001b[38;5;241;43m=\u001b[39;49m\u001b[43mrng\u001b[49m\u001b[43m)\u001b[49m\n\u001b[0;32m    430\u001b[0m     \u001b[38;5;28;01melse\u001b[39;00m:\n\u001b[0;32m    431\u001b[0m         change,improvement \u001b[38;5;241m=\u001b[39m move_or_swap(G,H,mapping,u,scores_by_vertex,usage,penalty_gradient\u001b[38;5;241m=\u001b[39mpenalty_gradient)\n",
      "File \u001b[1;32mc:\\Users\\leove\\OneDrive\\Documents\\Selberprogrammiertes\\flywire\\algorithms.py:356\u001b[0m, in \u001b[0;36mmove_or_swap\u001b[1;34m(G, H, mapping, u, scores_by_vertex, usage, penalty_gradient, rng)\u001b[0m\n\u001b[0;32m    353\u001b[0m cnz \u001b[38;5;241m=\u001b[39m np\u001b[38;5;241m.\u001b[39mflatnonzero(col)\n\u001b[0;32m    354\u001b[0m col \u001b[38;5;241m=\u001b[39m col[cnz]\n\u001b[1;32m--> 356\u001b[0m X \u001b[38;5;241m=\u001b[39m G[:,rnz[\u001b[38;5;28;01mNone\u001b[39;00m,:]]\u001b[38;5;241m.\u001b[39mreshape((m,\u001b[38;5;28;43mlen\u001b[39;49m\u001b[43m(\u001b[49m\u001b[43mrnz\u001b[49m\u001b[43m)\u001b[49m))\n\u001b[0;32m    357\u001b[0m Y \u001b[38;5;241m=\u001b[39m G[cnz[:,\u001b[38;5;28;01mNone\u001b[39;00m],:]\u001b[38;5;241m.\u001b[39mreshape((\u001b[38;5;28mlen\u001b[39m(cnz),m))\n\u001b[0;32m    359\u001b[0m f_u_scores \u001b[38;5;241m=\u001b[39m np\u001b[38;5;241m.\u001b[39mminimum(row[\u001b[38;5;28;01mNone\u001b[39;00m,:],X)\u001b[38;5;241m.\u001b[39msum(axis\u001b[38;5;241m=\u001b[39m\u001b[38;5;241m1\u001b[39m) \u001b[38;5;241m+\u001b[39m np\u001b[38;5;241m.\u001b[39mminimum(col[:,\u001b[38;5;28;01mNone\u001b[39;00m],Y)\u001b[38;5;241m.\u001b[39msum(axis\u001b[38;5;241m=\u001b[39m\u001b[38;5;241m0\u001b[39m)\n",
      "\u001b[1;31mKeyboardInterrupt\u001b[0m: "
     ]
    }
   ],
   "source": [
    "def penalty_gradient(x):\n",
    "\n",
    "    return (x>0)*10000000\n",
    "\n",
    "stable = (mapping0==mapping1) & (mapping1==mapping2) & (mapping2==mapping3)\n",
    "mapping = shuffle_map(mapping0,stable)\n",
    "move_swap_optimization(G,H,mapping,penalty_gradient=penalty_gradient,max_epochs=5,verbose=True,randomize_argmax=True)"
   ]
  },
  {
   "cell_type": "code",
   "execution_count": null,
   "metadata": {},
   "outputs": [],
   "source": [
    "rho_inverse = invert(rho)\n",
    "rho_pow = np.arange(n)\n",
    "rho_inv_pow = np.arange(n)\n",
    "\n",
    "distance = n*np.ones(n,dtype=int)\n",
    "\n",
    "for i in range(n):\n",
    "\n",
    "    hit = np.logical_or(shuffle == sigma[rho_pow],shuffle==sigma[rho_inv_pow])\n",
    "    distance[hit] = np.minimum(distance[hit],i)\n",
    "    rho_pow = rho[rho_pow]\n",
    "    rho_inv_pow = rho_inverse[rho_inv_pow]\n",
    "\n",
    "np.bincount(distance),get_cycles(rho)"
   ]
  }
 ],
 "metadata": {
  "kernelspec": {
   "display_name": "Python 3",
   "language": "python",
   "name": "python3"
  },
  "language_info": {
   "codemirror_mode": {
    "name": "ipython",
    "version": 3
   },
   "file_extension": ".py",
   "mimetype": "text/x-python",
   "name": "python",
   "nbconvert_exporter": "python",
   "pygments_lexer": "ipython3",
   "version": "3.10.8"
  }
 },
 "nbformat": 4,
 "nbformat_minor": 2
}

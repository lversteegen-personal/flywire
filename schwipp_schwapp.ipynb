{
 "cells": [
  {
   "cell_type": "code",
   "execution_count": 1,
   "metadata": {},
   "outputs": [
    {
     "ename": "ModuleNotFoundError",
     "evalue": "No module named 'google.colab'",
     "output_type": "error",
     "traceback": [
      "\u001b[1;31m---------------------------------------------------------------------------\u001b[0m",
      "\u001b[1;31mModuleNotFoundError\u001b[0m                       Traceback (most recent call last)",
      "Cell \u001b[1;32mIn [1], line 2\u001b[0m\n\u001b[0;32m      1\u001b[0m \u001b[38;5;66;03m#Only run in colab\u001b[39;00m\n\u001b[1;32m----> 2\u001b[0m \u001b[38;5;28;01mfrom\u001b[39;00m \u001b[38;5;21;01mgoogle\u001b[39;00m\u001b[38;5;21;01m.\u001b[39;00m\u001b[38;5;21;01mcolab\u001b[39;00m \u001b[38;5;28;01mimport\u001b[39;00m drive\n\u001b[0;32m      3\u001b[0m drive\u001b[38;5;241m.\u001b[39mmount(\u001b[38;5;124m'\u001b[39m\u001b[38;5;124m/content/drive\u001b[39m\u001b[38;5;124m'\u001b[39m)\n\u001b[0;32m      4\u001b[0m get_ipython()\u001b[38;5;241m.\u001b[39mrun_line_magic(\u001b[38;5;124m'\u001b[39m\u001b[38;5;124mcd\u001b[39m\u001b[38;5;124m'\u001b[39m, \u001b[38;5;124m'\u001b[39m\u001b[38;5;124m/content/drive/MyDrive/Github/flywire\u001b[39m\u001b[38;5;124m'\u001b[39m)\n",
      "\u001b[1;31mModuleNotFoundError\u001b[0m: No module named 'google.colab'"
     ]
    }
   ],
   "source": [
    "#Only run in colab\n",
    "from google.colab import drive\n",
    "drive.mount('/content/drive')\n",
    "%cd /content/drive/MyDrive/Github/flywire"
   ]
  },
  {
   "cell_type": "code",
   "execution_count": 1,
   "metadata": {},
   "outputs": [],
   "source": [
    "import numpy as np\n",
    "import scipy as sp\n",
    "from utility import get_best_connected, invert, score, random_graph_dist, shuffle_graph, shuffle_cycles, get_cycles, random_extension\n",
    "from algorithms import move_swap_optimization\n",
    "#from data_loader import M,F, benchmark_mapping\n",
    "rng = np.random.default_rng(0)"
   ]
  },
  {
   "cell_type": "code",
   "execution_count": 2,
   "metadata": {},
   "outputs": [],
   "source": [
    "A=M.todense()\n",
    "B=F.todense()\n",
    "N=A.shape[0]\n",
    "A[np.arange(N),np.arange(N)]=0\n",
    "B[np.arange(N),np.arange(N)]=0"
   ]
  },
  {
   "cell_type": "code",
   "execution_count": 10,
   "metadata": {},
   "outputs": [
    {
     "name": "stdout",
     "output_type": "stream",
     "text": [
      "i=0, new_top_score=308689                                                                           \n",
      "i=1, new_top_score=309361                                                                           \n"
     ]
    }
   ],
   "source": [
    "from algorithms import move_swap_optimization\n",
    "\n",
    "m=800\n",
    "n=A.shape[0]\n",
    "#mapping_M = rng.choice(n,m,replace=False)\n",
    "#mapping_F = rng.choice(n,m,replace=False)\n",
    "\n",
    "def penalty_gradient(x):\n",
    "\n",
    "    return (x>0)*10000000\n",
    "\n",
    "top_score = 0\n",
    "\n",
    "for i in range(2):\n",
    "\n",
    "    outer_unchanged = True\n",
    "\n",
    "    if i % 2 == 0:\n",
    "        G = B[mapping_F[:,None],mapping_F[None,:]]\n",
    "        H = A\n",
    "        mapping = mapping_M.copy()\n",
    "    else:\n",
    "        G = A[mapping_M[:,None],mapping_M[None,:]]\n",
    "        H = B\n",
    "        mapping = mapping_F.copy()\n",
    "\n",
    "    mapping, new_top_score = move_swap_optimization(G,H,mapping,penalty_gradient=penalty_gradient,rng=rng,verbose=True)\n",
    "    \n",
    "    if i % 2 == 0:\n",
    "        mapping_M = mapping.copy()\n",
    "    else:\n",
    "        mapping_F = mapping.copy()\n",
    "\n",
    "    print(\" \"*100,end=\"\\r\")\n",
    "    print(f\"{i=}, {new_top_score=}\"+\" \"*20,end=\"\\n\")\n",
    "\n",
    "    if new_top_score == top_score:\n",
    "        break\n",
    "    else:\n",
    "        top_score = new_top_score\n",
    "\n",
    "mapping = random_extension(n,mapping_F,mapping_M,rng)"
   ]
  },
  {
   "cell_type": "code",
   "execution_count": 5,
   "metadata": {},
   "outputs": [
    {
     "data": {
      "text/plain": [
       "248053"
      ]
     },
     "execution_count": 5,
     "metadata": {},
     "output_type": "execute_result"
    }
   ],
   "source": [
    "n=500\n",
    "G = random_graph_dist(n,p=0.1,sample_source=lambda : rng.poisson(lam=10),rng=rng)\n",
    "H,shuffle = shuffle_graph(G,rng=rng)\n",
    "\n",
    "sigma = rng.permutation(n)\n",
    "tau = rng.permutation(n)\n",
    "\n",
    "penalty_gradient = lambda x: (x>0)*10000000\n",
    "score(G,G,np.arange(n))"
   ]
  },
  {
   "cell_type": "code",
   "execution_count": 38,
   "metadata": {},
   "outputs": [
    {
     "data": {
      "text/plain": [
       "(20878, 20878, 500)"
      ]
     },
     "execution_count": 38,
     "metadata": {},
     "output_type": "execute_result"
    }
   ],
   "source": [
    "sigma, sigma_score = move_swap_optimization(G,H,sigma,penalty_gradient=penalty_gradient,max_epochs=10,verbose=False,randomize_argmax=True)\n",
    "tau, tau_score = move_swap_optimization(G,H,tau,penalty_gradient=penalty_gradient,max_epochs=10,verbose=False,randomize_argmax=True)\n",
    "rho = invert(sigma)[tau]\n",
    "sigma_score,tau_score, len(get_cycles(rho))"
   ]
  },
  {
   "cell_type": "code",
   "execution_count": 37,
   "metadata": {},
   "outputs": [],
   "source": [
    "tau = tau[shuffle_cycles(rho)]\n",
    "sigma = sigma[shuffle_cycles(rho)]"
   ]
  },
  {
   "cell_type": "code",
   "execution_count": 543,
   "metadata": {},
   "outputs": [
    {
     "data": {
      "text/plain": [
       "([array([  0,  54,  66, 376,  92,  22, 198, 136, 254,  17,  46, 246,  43,\n",
       "         310, 364, 470, 140, 119, 307, 378, 306, 478, 486, 430, 439,  57,\n",
       "          53, 219, 294, 235, 233,   1, 167, 214, 104,  35, 369, 288, 474,\n",
       "         358, 424, 381, 321, 287, 382, 168,  98, 409, 143, 392, 491, 281,\n",
       "         102, 238, 413, 218, 422, 312, 170, 250,  50, 202, 142,   4,  79,\n",
       "         240, 283, 156, 155, 471, 419, 247, 111,  89, 163, 280, 188, 445,\n",
       "         440, 473, 490, 497, 375, 318, 499, 128, 325,  86,  74, 262,  70,\n",
       "         493, 251, 371,  34, 488,  84, 226, 220, 297,  85, 352, 276, 273,\n",
       "          81, 353, 101, 124,  68, 293, 229, 341, 118, 420, 253, 191, 360,\n",
       "         331, 496,  97, 418, 479,  88,   2, 148, 162, 286, 455,  32, 278,\n",
       "         319, 342, 348, 187, 489, 315, 232, 274,  41, 245,  15,   7, 275,\n",
       "         368,  24, 366, 230, 181, 295, 268, 301, 161, 236, 357,  72, 179,\n",
       "         282, 267, 460, 105, 113, 154, 186, 442,  52, 239, 183, 435, 308,\n",
       "         216, 414, 477, 303, 158,  91, 481,  12, 450, 328,  67,  62,  39,\n",
       "         197, 487,  65, 107, 209, 492, 120, 199, 332, 317, 185, 349, 159,\n",
       "          44, 164, 305, 160, 484,  47, 339,  99, 127, 405,  61, 363, 329,\n",
       "         196,  36,  30,  73, 195, 444, 365, 428, 403, 406, 446, 324, 416,\n",
       "          25, 165,  94, 354, 417,   5, 395, 223, 459, 169, 212,  10,   8,\n",
       "         458, 172, 190, 346, 184, 131, 298, 373, 456, 242, 402, 367, 383,\n",
       "         454, 323, 285, 132, 200, 117, 356,  28, 400, 137,  16,  69, 334,\n",
       "         372,  27, 425, 228, 243, 335,  78, 173, 401, 380, 466, 210, 467,\n",
       "          37, 208,  42, 205, 412, 271, 147,  64, 126,  87,  23,  76, 103,\n",
       "          20, 437, 316, 241,  13, 397, 311, 384, 122, 468, 379, 123,  83,\n",
       "         469, 110, 192, 166, 393, 326, 194, 431, 457, 157, 266, 313, 207,\n",
       "         309, 151, 447, 145, 217,  95, 333, 475, 336, 249, 277, 224, 483,\n",
       "           3, 134, 361, 263, 100,  55, 279, 389,  18, 344, 139, 176, 370,\n",
       "         153, 133, 494, 472, 343,  93, 178, 391, 452, 221, 265, 255,  80,\n",
       "          26, 264, 427, 438, 495, 150,  58, 465, 399, 248, 411, 415, 408,\n",
       "         359,  75, 448,  63, 115, 443,  33, 410, 327,  45, 485, 272, 390,\n",
       "         182,  14, 114, 146,  31, 189,  71, 434, 129, 426, 461, 149, 204,\n",
       "         121, 451, 338]),\n",
       "  array([  6, 462, 355, 441, 291,  11,  60, 322,  38, 449, 234, 203, 290,\n",
       "         337, 180, 106, 421, 304, 350,  48,  77, 386, 296, 388, 423, 177,\n",
       "         108,  21, 256, 152,  19, 206, 480, 237,  51, 144, 453, 260,   9,\n",
       "          29, 374, 314, 211, 289, 385, 398,  90, 130,  59,  49, 259]),\n",
       "  array([ 40, 330, 284, 215, 261, 171, 109, 351, 112, 482, 436]),\n",
       "  array([ 56, 464, 258, 299, 320, 377,  82, 116]),\n",
       "  array([ 96, 141, 193, 225, 252, 213, 429, 174, 463, 347, 302, 394, 125,\n",
       "         292, 396, 404]),\n",
       "  array([135, 222, 362, 498, 201, 432, 231, 340, 244, 138, 476]),\n",
       "  array([175, 387, 227, 269, 345, 270, 257, 433, 300]),\n",
       "  array([407])],\n",
       " array([ 42,  52, 108, 178, 204, 211, 227, 233, 237, 425], dtype=int64))"
      ]
     },
     "execution_count": 543,
     "metadata": {},
     "output_type": "execute_result"
    }
   ],
   "source": [
    "get_cycles(rho), np.flatnonzero(shuffle==tau)"
   ]
  }
 ],
 "metadata": {
  "kernelspec": {
   "display_name": "Python 3",
   "language": "python",
   "name": "python3"
  },
  "language_info": {
   "codemirror_mode": {
    "name": "ipython",
    "version": 3
   },
   "file_extension": ".py",
   "mimetype": "text/x-python",
   "name": "python",
   "nbconvert_exporter": "python",
   "pygments_lexer": "ipython3",
   "version": "3.10.8"
  }
 },
 "nbformat": 4,
 "nbformat_minor": 2
}

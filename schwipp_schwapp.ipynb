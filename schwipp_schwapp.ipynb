{
 "cells": [
  {
   "cell_type": "code",
   "execution_count": 1,
   "metadata": {},
   "outputs": [
    {
     "ename": "ModuleNotFoundError",
     "evalue": "No module named 'google.colab'",
     "output_type": "error",
     "traceback": [
      "\u001b[1;31m---------------------------------------------------------------------------\u001b[0m",
      "\u001b[1;31mModuleNotFoundError\u001b[0m                       Traceback (most recent call last)",
      "Cell \u001b[1;32mIn [1], line 2\u001b[0m\n\u001b[0;32m      1\u001b[0m \u001b[38;5;66;03m#Only run in colab\u001b[39;00m\n\u001b[1;32m----> 2\u001b[0m \u001b[38;5;28;01mfrom\u001b[39;00m \u001b[38;5;21;01mgoogle\u001b[39;00m\u001b[38;5;21;01m.\u001b[39;00m\u001b[38;5;21;01mcolab\u001b[39;00m \u001b[38;5;28;01mimport\u001b[39;00m drive\n\u001b[0;32m      3\u001b[0m drive\u001b[38;5;241m.\u001b[39mmount(\u001b[38;5;124m'\u001b[39m\u001b[38;5;124m/content/drive\u001b[39m\u001b[38;5;124m'\u001b[39m)\n\u001b[0;32m      4\u001b[0m get_ipython()\u001b[38;5;241m.\u001b[39mrun_line_magic(\u001b[38;5;124m'\u001b[39m\u001b[38;5;124mcd\u001b[39m\u001b[38;5;124m'\u001b[39m, \u001b[38;5;124m'\u001b[39m\u001b[38;5;124m/content/drive/MyDrive/Github/flywire\u001b[39m\u001b[38;5;124m'\u001b[39m)\n",
      "\u001b[1;31mModuleNotFoundError\u001b[0m: No module named 'google.colab'"
     ]
    }
   ],
   "source": [
    "#Only run in colab\n",
    "from google.colab import drive\n",
    "drive.mount('/content/drive')\n",
    "%cd /content/drive/MyDrive/Github/flywire"
   ]
  },
  {
   "cell_type": "code",
   "execution_count": 2,
   "metadata": {},
   "outputs": [],
   "source": [
    "import numpy as np\n",
    "import scipy as sp\n",
    "from utility import M,F, benchmark_mapping, get_best_connected, invert, score, get_highest_out_degrees\n",
    "rng = np.random.default_rng(0)"
   ]
  },
  {
   "cell_type": "code",
   "execution_count": 3,
   "metadata": {},
   "outputs": [
    {
     "data": {
      "text/plain": [
       "(0.224672, 0.123912)"
      ]
     },
     "execution_count": 3,
     "metadata": {},
     "output_type": "execute_result"
    }
   ],
   "source": [
    "m,n = 50,500\n",
    "H_M,m_labels = get_best_connected(M,n)\n",
    "H_F,f_labels = get_best_connected(F,n)\n",
    "H_M = H_M.todense()\n",
    "H_F = H_F.todense()\n",
    "H_F[np.arange(n),np.arange(n)] = 0\n",
    "H_M[np.arange(n),np.arange(n)] = 0\n",
    "np.count_nonzero(H_M)/n**2, np.count_nonzero(H_F)/n**2"
   ]
  },
  {
   "cell_type": "code",
   "execution_count": 63,
   "metadata": {},
   "outputs": [
    {
     "name": "stdout",
     "output_type": "stream",
     "text": [
      "k=77, i=7, top_score=10135                     \r"
     ]
    },
    {
     "ename": "KeyboardInterrupt",
     "evalue": "",
     "output_type": "error",
     "traceback": [
      "\u001b[1;31m---------------------------------------------------------------------------\u001b[0m",
      "\u001b[1;31mKeyboardInterrupt\u001b[0m                         Traceback (most recent call last)",
      "Cell \u001b[1;32mIn [63], line 33\u001b[0m\n\u001b[0;32m     29\u001b[0m unchanged \u001b[38;5;241m=\u001b[39m \u001b[38;5;28;01mTrue\u001b[39;00m\n\u001b[0;32m     31\u001b[0m \u001b[38;5;28;01mfor\u001b[39;00m u \u001b[38;5;129;01min\u001b[39;00m rng\u001b[38;5;241m.\u001b[39mpermutation(m):\n\u001b[1;32m---> 33\u001b[0m     change_scores \u001b[38;5;241m=\u001b[39m \u001b[43mfind_best_move\u001b[49m\u001b[43m(\u001b[49m\u001b[43mG\u001b[49m\u001b[43m,\u001b[49m\u001b[43mH\u001b[49m\u001b[43m,\u001b[49m\u001b[43mmapping\u001b[49m\u001b[43m,\u001b[49m\u001b[43mu\u001b[49m\u001b[43m)\u001b[49m\n\u001b[0;32m     34\u001b[0m     w \u001b[38;5;241m=\u001b[39m (change_scores\u001b[38;5;241m*\u001b[39munmapped)\u001b[38;5;241m.\u001b[39margmax()\n\u001b[0;32m     36\u001b[0m     \u001b[38;5;28;01mif\u001b[39;00m change_scores[w] \u001b[38;5;241m>\u001b[39m change_scores[mapping[u]]:\n",
      "Cell \u001b[1;32mIn [62], line 13\u001b[0m, in \u001b[0;36mfind_best_move\u001b[1;34m(G, H, mapping, u, mask)\u001b[0m\n\u001b[0;32m     11\u001b[0m \u001b[38;5;28;01mif\u001b[39;00m mask \u001b[38;5;129;01mis\u001b[39;00m \u001b[38;5;28;01mNone\u001b[39;00m:\n\u001b[0;32m     12\u001b[0m     n \u001b[38;5;241m=\u001b[39m H\u001b[38;5;241m.\u001b[39mshape[\u001b[38;5;241m0\u001b[39m]\n\u001b[1;32m---> 13\u001b[0m     X \u001b[38;5;241m=\u001b[39m H[:,mapping[\u001b[38;5;28;01mNone\u001b[39;00m,u_rnz]]\u001b[38;5;241m.\u001b[39mreshape((n,\u001b[38;5;28;43mlen\u001b[39;49m\u001b[43m(\u001b[49m\u001b[43mu_rnz\u001b[49m\u001b[43m)\u001b[49m))\n\u001b[0;32m     14\u001b[0m     Y \u001b[38;5;241m=\u001b[39m H[mapping[u_cnz,\u001b[38;5;28;01mNone\u001b[39;00m],:]\u001b[38;5;241m.\u001b[39mreshape((\u001b[38;5;28mlen\u001b[39m(u_cnz),n))\n\u001b[0;32m     15\u001b[0m \u001b[38;5;28;01melse\u001b[39;00m:\n",
      "\u001b[1;31mKeyboardInterrupt\u001b[0m: "
     ]
    }
   ],
   "source": [
    "result_matrix = np.zeros((n,n),dtype=int)\n",
    "score_track = []\n",
    "mapping_save = []\n",
    "\n",
    "for k in range(500):\n",
    "\n",
    "    mapping_M = rng.choice(n,m,replace=False)\n",
    "    mapping_F = rng.choice(n,m,replace=False)\n",
    "\n",
    "    for i in range(50):\n",
    "\n",
    "        outer_unchanged = True\n",
    "\n",
    "        if i % 2 == 0:\n",
    "            G = H_F[mapping_F[:,None],mapping_F[None,:]]\n",
    "            H = H_M\n",
    "            mapping = mapping_M.copy()\n",
    "        else:\n",
    "            G = H_M[mapping_M[:,None],mapping_M[None,:]]\n",
    "            H = H_F\n",
    "            mapping = mapping_F.copy()\n",
    "\n",
    "        unmapped = np.ones(n,dtype=bool)\n",
    "        unmapped[mapping] = False\n",
    "        top_score = score(G,H,mapping,require_surjective=False)\n",
    "        \n",
    "        for j in range(50):\n",
    "\n",
    "            unchanged = True\n",
    "\n",
    "            for u in rng.permutation(m):\n",
    "\n",
    "                change_scores = find_best_move(G,H,mapping,u)\n",
    "                w = (change_scores*unmapped).argmax()\n",
    "\n",
    "                if change_scores[w] > change_scores[mapping[u]]:\n",
    "                    top_score = top_score + change_scores[w]-change_scores[mapping[u]]\n",
    "\n",
    "                    unmapped[mapping[u]] = True\n",
    "                    unmapped[w] = False\n",
    "                    mapping[u] = w\n",
    "                    unchanged = False\n",
    "                    outer_unchanged = False\n",
    "\n",
    "            if unchanged:\n",
    "                break\n",
    "        \n",
    "        if i % 2 == 0:\n",
    "            mapping_M = mapping.copy()\n",
    "        else:\n",
    "            mapping_F = mapping.copy()\n",
    "\n",
    "        if outer_unchanged:\n",
    "            print(f\"{k=}, {i=}, {top_score=}\"+\" \"*20,end=\"\\r\")\n",
    "            break\n",
    "\n",
    "    A = H_F[mapping_F[:,None],mapping_F[None,:]]\n",
    "    B = H_M[mapping_M[:,None],mapping_M[None,:]]\n",
    "\n",
    "    score_track.append((score(G,H,mapping,require_surjective=False), score(A,A,np.arange(m)), score(B,B,np.arange(m))))\n",
    "    mapping_save.append((mapping_F,mapping_M))\n",
    "    result_matrix[mapping_F,mapping_M] += 1"
   ]
  },
  {
   "cell_type": "code",
   "execution_count": null,
   "metadata": {},
   "outputs": [],
   "source": [
    "np.concatenate([m_labels[mapping_M,None],f_labels[mapping_F,None]],axis=1)"
   ]
  },
  {
   "cell_type": "code",
   "execution_count": 12,
   "metadata": {},
   "outputs": [],
   "source": [
    "A=M.todense()\n",
    "B=F.todense()\n",
    "N=A.shape[0]\n",
    "A[np.arange(N),np.arange(N)]=0\n",
    "B[np.arange(N),np.arange(N)]=0"
   ]
  },
  {
   "cell_type": "code",
   "execution_count": 76,
   "metadata": {},
   "outputs": [
    {
     "data": {
      "text/plain": [
       "5821937"
      ]
     },
     "execution_count": 76,
     "metadata": {},
     "output_type": "execute_result"
    }
   ],
   "source": [
    "G= B\n",
    "H=A\n",
    "mapping = np.load(\"mappings/Mapping-14-12-24 (5.82 Mio).npy\")\n",
    "score(G,H,mapping)"
   ]
  },
  {
   "cell_type": "code",
   "execution_count": null,
   "metadata": {},
   "outputs": [
    {
     "name": "stdout",
     "output_type": "stream",
     "text": [
      "u=7478, score_track=5771496\r"
     ]
    },
    {
     "ename": "KeyboardInterrupt",
     "evalue": "",
     "output_type": "error",
     "traceback": [
      "\u001b[1;31m---------------------------------------------------------------------------\u001b[0m",
      "\u001b[1;31mKeyboardInterrupt\u001b[0m                         Traceback (most recent call last)",
      "Cell \u001b[1;32mIn [75], line 5\u001b[0m\n\u001b[0;32m      2\u001b[0m score_track\u001b[38;5;241m=\u001b[39mscore(G,H,mapping)\n\u001b[0;32m      4\u001b[0m \u001b[38;5;28;01mfor\u001b[39;00m u \u001b[38;5;129;01min\u001b[39;00m \u001b[38;5;28mrange\u001b[39m(N):\u001b[38;5;66;03m#range(1319,N):\u001b[39;00m\n\u001b[1;32m----> 5\u001b[0m     improvement \u001b[38;5;241m=\u001b[39m \u001b[43mmake_best_swap\u001b[49m\u001b[43m(\u001b[49m\u001b[43mG\u001b[49m\u001b[43m,\u001b[49m\u001b[43mH\u001b[49m\u001b[43m,\u001b[49m\u001b[43mmapping\u001b[49m\u001b[43m,\u001b[49m\u001b[43mu\u001b[49m\u001b[43m,\u001b[49m\u001b[43mscores_by_vertex\u001b[49m\u001b[43m)\u001b[49m\n\u001b[0;32m      6\u001b[0m     score_track \u001b[38;5;241m+\u001b[39m\u001b[38;5;241m=\u001b[39m improvement\n\u001b[0;32m      7\u001b[0m     \u001b[38;5;28mprint\u001b[39m(\u001b[38;5;124mf\u001b[39m\u001b[38;5;124m\"\u001b[39m\u001b[38;5;132;01m{\u001b[39;00mu\u001b[38;5;132;01m=}\u001b[39;00m\u001b[38;5;124m, \u001b[39m\u001b[38;5;132;01m{\u001b[39;00mscore_track\u001b[38;5;132;01m=}\u001b[39;00m\u001b[38;5;124m\"\u001b[39m,end\u001b[38;5;241m=\u001b[39m\u001b[38;5;124m\"\u001b[39m\u001b[38;5;130;01m\\r\u001b[39;00m\u001b[38;5;124m\"\u001b[39m)\n",
      "Cell \u001b[1;32mIn [62], line 48\u001b[0m, in \u001b[0;36mmake_best_swap\u001b[1;34m(G, H, mapping, u, scores_by_vertex, mask)\u001b[0m\n\u001b[0;32m     45\u001b[0m col \u001b[38;5;241m=\u001b[39m col[cnz]\n\u001b[0;32m     47\u001b[0m \u001b[38;5;28;01mif\u001b[39;00m mask \u001b[38;5;129;01mis\u001b[39;00m \u001b[38;5;28;01mNone\u001b[39;00m:\n\u001b[1;32m---> 48\u001b[0m     X \u001b[38;5;241m=\u001b[39m H[mapping[:,\u001b[38;5;28;01mNone\u001b[39;00m],mapping[\u001b[38;5;28;01mNone\u001b[39;00m,rnz]]\u001b[38;5;241m.\u001b[39mreshape((n,\u001b[38;5;28;43mlen\u001b[39;49m\u001b[43m(\u001b[49m\u001b[43mrnz\u001b[49m\u001b[43m)\u001b[49m))\n\u001b[0;32m     49\u001b[0m     Y \u001b[38;5;241m=\u001b[39m H[mapping[cnz,\u001b[38;5;28;01mNone\u001b[39;00m],mapping[\u001b[38;5;28;01mNone\u001b[39;00m,:]]\u001b[38;5;241m.\u001b[39mreshape((\u001b[38;5;28mlen\u001b[39m(cnz),n))\n\u001b[0;32m     50\u001b[0m \u001b[38;5;28;01melse\u001b[39;00m:\n",
      "\u001b[1;31mKeyboardInterrupt\u001b[0m: "
     ]
    }
   ],
   "source": [
    "from algorithms import get_scores_by_vertex, make_best_swap, find_best_move\n",
    "\n",
    "scores_by_vertex = get_scores_by_vertex(G,H,mapping)\n",
    "score_track=score(G,H,mapping)\n",
    "\n",
    "for u in range(N):#range(1319,N):\n",
    "    improvement = make_best_swap(G,H,mapping,u,scores_by_vertex)\n",
    "    score_track += improvement\n",
    "    print(f\"{u=}, {score_track=}\",end=\"\\r\")\n",
    "\n",
    "scores_by_vertex.sum()/2, score(G,H,mapping)"
   ]
  },
  {
   "cell_type": "code",
   "execution_count": 74,
   "metadata": {},
   "outputs": [
    {
     "data": {
      "text/plain": [
       "5724030"
      ]
     },
     "execution_count": 74,
     "metadata": {},
     "output_type": "execute_result"
    }
   ],
   "source": [
    "score(G,H,mapping)"
   ]
  },
  {
   "cell_type": "code",
   "execution_count": 70,
   "metadata": {},
   "outputs": [],
   "source": [
    "main_mapping = mapping.copy()\n",
    "np.save(\"mappings/Mapping-14-12-24 (5.82 Mio).npy\",main_mapping)"
   ]
  },
  {
   "cell_type": "code",
   "execution_count": 5,
   "metadata": {},
   "outputs": [
    {
     "name": "stdout",
     "output_type": "stream",
     "text": [
      "i=99\r"
     ]
    }
   ],
   "source": [
    "rng = np.random.default_rng()\n",
    "from algorithms import greedy_mapping, greedy_max\n",
    "#start_mapping=-np.ones(N,dtype=int)\n",
    "inverse_benchmark = invert(benchmark_mapping)\n",
    "#start_mapping[f_labels[mapping_F]]=m_labels[mapping_M]\n",
    "#random_set = rng.choice(N,500,replace=False)\n",
    "#start_mapping[:500] = inverse_benchmark[:500]\n",
    "mapping = greedy_max(H_F,H_M,start_mapping=None, c=0.1)"
   ]
  },
  {
   "cell_type": "code",
   "execution_count": 34,
   "metadata": {},
   "outputs": [
    {
     "name": "stdout",
     "output_type": "stream",
     "text": [
      "i=99\r"
     ]
    }
   ],
   "source": [
    "results = np.zeros((n,n),dtype=int)\n",
    "for i in range(n):\n",
    "    for j in range(n):\n",
    "        if i==j:\n",
    "            continue\n",
    "        start_mapping = -np.ones(n,dtype=int)\n",
    "        start_mapping[0]=i\n",
    "        start_mapping[1]=j\n",
    "        mapping=greedy_max(H_F,H_M,start_mapping,verbose=False,c=0)\n",
    "        results[i,j] = score(H_F,H_M,mapping)\n",
    "        print(f\"{i=}\",end=\"\\r\")"
   ]
  },
  {
   "cell_type": "code",
   "execution_count": 19,
   "metadata": {},
   "outputs": [
    {
     "data": {
      "text/plain": [
       "201352"
      ]
     },
     "execution_count": 19,
     "metadata": {},
     "output_type": "execute_result"
    }
   ],
   "source": [
    "inverse_benchmark=main_mapping.copy()\n",
    "m_labels=inverse_benchmark[f_labels]\n",
    "H_M = (M[m_labels[:,None],m_labels[None,:]]).todense()\n",
    "score(H_F,H_M,np.arange(n))"
   ]
  },
  {
   "cell_type": "code",
   "execution_count": null,
   "metadata": {},
   "outputs": [
    {
     "name": "stdout",
     "output_type": "stream",
     "text": [
      "i=99, high_score=11458, save_count=18\r"
     ]
    },
    {
     "data": {
      "text/plain": [
       "array([ 71,  95,  24, 107, 151,  49,  66,  21,  19, 177,  50, 198,   5,\n",
       "         8,   7,  31,  70, 116,  29, 148, 145,  23, 105, 140, 111,  42,\n",
       "        45,  35, 134, 114, 110, 196,   3,   9, 179, 135, 136,  55, 124,\n",
       "        84,  92,  47, 169, 115,  51,  59, 117, 100, 121,  39,  62,  57,\n",
       "       133,  54, 103, 142,  46,  82, 143, 158,   0, 199, 193, 183,  18,\n",
       "       118,  98,  78, 131,  26, 168, 166,  41, 197,  25, 190, 176, 180,\n",
       "       132,  20,   2, 195, 167,  86,  69,  27,  73, 187, 189, 139,  64,\n",
       "       113, 112, 144,  80, 141,  15,  33,  87, 120,  76,  28,  53, 123,\n",
       "       165, 102, 162, 185,  61, 104, 109, 175, 150, 125,  93,  99,  96,\n",
       "       126, 157, 156, 163, 119, 181, 159,  60,  75,  65, 127,  10, 108,\n",
       "       137,  22,  68, 178, 129, 160, 182, 122,  97,  85, 161,  36,  16,\n",
       "        12, 101, 146,  91,  40,  81, 173,  67, 154, 147,  89,   4, 164,\n",
       "         1,  83,  30, 153,  38, 184, 188,  56,  72, 171,  37,  11, 106,\n",
       "       130,  17,  63,  79,  58,  77,  94,  44, 149, 152, 174,  74, 128,\n",
       "        34, 155, 170, 192,  88,  13, 186, 172,  52, 191, 138,   6,  14,\n",
       "        43,  90, 194,  48,  32])"
      ]
     },
     "execution_count": 34,
     "metadata": {},
     "output_type": "execute_result"
    }
   ],
   "source": [
    "from utility import random_graph,shuffle_graph\n",
    "from algorithms import greedy_max\n",
    "\n",
    "G=B\n",
    "H=A\n",
    "\n",
    "mapping = main_mapping.copy()\n",
    "high_score = score(G,H,mapping,require_surjective=False)\n",
    "last_change = 0\n",
    "save_count = 800\n",
    "\n",
    "for i in range(5):\n",
    "    start_mapping = -np.ones(n,dtype=int)\n",
    "    #choice = np.concatenate([np.arange(100),rng.choice(np.arange(100,n),size=save_count,replace=False)])\n",
    "    choice = rng.choice(n,size=save_count,replace=False)\n",
    "    start_mapping[choice]=mapping[choice]\n",
    "\n",
    "    next_mapping=greedy_max(G,H,start_mapping,verbose=False,c=0.1,injective=True)\n",
    "    \n",
    "    scores_by_vertex = get_scores_by_vertex(G,H,next_mapping)\n",
    "\n",
    "    for _ in range(5):\n",
    "        for u in rng.permutation(n):\n",
    "            make_best_swap(G,H,mapping,u,scores_by_vertex)\n",
    "\n",
    "    current_score = score(G,H,next_mapping,require_surjective=False)\n",
    "\n",
    "    if current_score>high_score:\n",
    "        high_score=current_score\n",
    "        mapping = next_mapping\n",
    "        last_change = i\n",
    "    elif i-last_change >10:\n",
    "        save_count += 1\n",
    "        last_change = i\n",
    "\n",
    "    print(f\"{i=}, {high_score=}, {save_count=}\",end=\"\\r\")"
   ]
  },
  {
   "cell_type": "code",
   "execution_count": null,
   "metadata": {},
   "outputs": [
    {
     "name": "stdout",
     "output_type": "stream",
     "text": [
      "i=4, top_score=4320                    \r"
     ]
    }
   ],
   "source": [
    "m=50\n",
    "mapping_M = rng.choice(n,m,replace=False)\n",
    "mapping_F = rng.choice(n,m,replace=False)\n",
    "\n",
    "for i in range(50):\n",
    "\n",
    "    outer_unchanged = True\n",
    "\n",
    "    if i % 2 == 0:\n",
    "        G = H_F[mapping_F[:,None],mapping_F[None,:]]\n",
    "        H = H_M\n",
    "        mapping = mapping_M.copy()\n",
    "    else:\n",
    "        G = H_M[mapping_M[:,None],mapping_M[None,:]]\n",
    "        H = H_F\n",
    "        mapping = mapping_F.copy()\n",
    "\n",
    "    unmapped = np.ones(n,dtype=bool)\n",
    "    unmapped[mapping] = False\n",
    "    top_score = score(G,H,mapping,require_surjective=False)\n",
    "    \n",
    "    for j in range(50):\n",
    "\n",
    "        unchanged = True\n",
    "\n",
    "        for u in rng.permutation(m):\n",
    "\n",
    "            change_scores = find_best_move(G,H,mapping,u)\n",
    "            w = (change_scores*unmapped).argmax()\n",
    "\n",
    "            if change_scores[w] > change_scores[mapping[u]]:\n",
    "                top_score = top_score + change_scores[w]-change_scores[mapping[u]]\n",
    "\n",
    "                unmapped[mapping[u]] = True\n",
    "                unmapped[w] = False\n",
    "                mapping[u] = w\n",
    "                unchanged = False\n",
    "                outer_unchanged = False\n",
    "\n",
    "        if unchanged:\n",
    "            break\n",
    "    \n",
    "    if i % 2 == 0:\n",
    "        mapping_M = mapping.copy()\n",
    "    else:\n",
    "        mapping_F = mapping.copy()\n",
    "\n",
    "    if outer_unchanged:\n",
    "        print(f\"{i=}, {top_score=}\"+\" \"*20,end=\"\\r\")\n",
    "        break"
   ]
  },
  {
   "cell_type": "code",
   "execution_count": 11,
   "metadata": {},
   "outputs": [
    {
     "name": "stdout",
     "output_type": "stream",
     "text": [
      "6237700\n",
      "j=15, score_track=2381186          \r"
     ]
    },
    {
     "ename": "KeyboardInterrupt",
     "evalue": "",
     "output_type": "error",
     "traceback": [
      "\u001b[1;31m---------------------------------------------------------------------------\u001b[0m",
      "\u001b[1;31mKeyboardInterrupt\u001b[0m                         Traceback (most recent call last)",
      "Cell \u001b[1;32mIn [11], line 15\u001b[0m\n\u001b[0;32m     13\u001b[0m \u001b[38;5;28;01mfor\u001b[39;00m j \u001b[38;5;129;01min\u001b[39;00m \u001b[38;5;28mrange\u001b[39m(\u001b[38;5;241m50\u001b[39m):\n\u001b[0;32m     14\u001b[0m     \u001b[38;5;28;01mfor\u001b[39;00m u \u001b[38;5;129;01min\u001b[39;00m np\u001b[38;5;241m.\u001b[39marange(n):\n\u001b[1;32m---> 15\u001b[0m         improvement \u001b[38;5;241m=\u001b[39m \u001b[43mmake_best_swap\u001b[49m\u001b[43m(\u001b[49m\u001b[43mG\u001b[49m\u001b[43m,\u001b[49m\u001b[43mH\u001b[49m\u001b[43m,\u001b[49m\u001b[43mmapping\u001b[49m\u001b[43m,\u001b[49m\u001b[43mu\u001b[49m\u001b[43m,\u001b[49m\u001b[43mscores_by_vertex\u001b[49m\u001b[43m)\u001b[49m\n\u001b[0;32m     16\u001b[0m         score_track \u001b[38;5;241m+\u001b[39m\u001b[38;5;241m=\u001b[39m improvement\n\u001b[0;32m     17\u001b[0m     \u001b[38;5;28mprint\u001b[39m(\u001b[38;5;124mf\u001b[39m\u001b[38;5;124m\"\u001b[39m\u001b[38;5;132;01m{\u001b[39;00mj\u001b[38;5;132;01m=}\u001b[39;00m\u001b[38;5;124m, \u001b[39m\u001b[38;5;132;01m{\u001b[39;00mscore_track\u001b[38;5;132;01m=}\u001b[39;00m\u001b[38;5;124m\"\u001b[39m\u001b[38;5;241m+\u001b[39m\u001b[38;5;124m\"\u001b[39m\u001b[38;5;124m \u001b[39m\u001b[38;5;124m\"\u001b[39m\u001b[38;5;241m*\u001b[39m\u001b[38;5;241m10\u001b[39m,end\u001b[38;5;241m=\u001b[39m\u001b[38;5;124m\"\u001b[39m\u001b[38;5;130;01m\\r\u001b[39;00m\u001b[38;5;124m\"\u001b[39m)\n",
      "File \u001b[1;32mc:\\Users\\leove\\OneDrive\\Documents\\Selberprogrammiertes\\flywire\\algorithms.py:281\u001b[0m, in \u001b[0;36mmake_best_swap\u001b[1;34m(G, H, mapping, u, scores_by_vertex, mask)\u001b[0m\n\u001b[0;32m    279\u001b[0m \u001b[38;5;28;01mif\u001b[39;00m mask \u001b[38;5;129;01mis\u001b[39;00m \u001b[38;5;28;01mNone\u001b[39;00m:\n\u001b[0;32m    280\u001b[0m     X \u001b[38;5;241m=\u001b[39m G[:,rnz[\u001b[38;5;28;01mNone\u001b[39;00m,:]]\u001b[38;5;241m.\u001b[39mreshape((m,\u001b[38;5;28mlen\u001b[39m(rnz)))\n\u001b[1;32m--> 281\u001b[0m     Y \u001b[38;5;241m=\u001b[39m G[cnz[:,\u001b[38;5;28;01mNone\u001b[39;00m],:]\u001b[38;5;241m.\u001b[39mreshape((\u001b[38;5;28;43mlen\u001b[39;49m\u001b[43m(\u001b[49m\u001b[43mcnz\u001b[49m\u001b[43m)\u001b[49m,m))\n\u001b[0;32m    282\u001b[0m \u001b[38;5;28;01melse\u001b[39;00m:\n\u001b[0;32m    283\u001b[0m     X \u001b[38;5;241m=\u001b[39m G[G_mask,rnz[\u001b[38;5;28;01mNone\u001b[39;00m,:]]\u001b[38;5;241m.\u001b[39mreshape((m,\u001b[38;5;28mlen\u001b[39m(rnz)))\n",
      "\u001b[1;31mKeyboardInterrupt\u001b[0m: "
     ]
    }
   ],
   "source": [
    "from utility import random_graph,shuffle_graph\n",
    "from algorithms import get_scores_by_vertex, make_best_swap\n",
    "n=500\n",
    "G=random_graph(n,max=1,rng=rng)\n",
    "H,shuffle=shuffle_graph(G,rng=rng)\n",
    "mapping = rng.permutation(n)\n",
    "\n",
    "scores_by_vertex = get_scores_by_vertex(G,H,mapping)\n",
    "score_track=score(G,H,mapping)\n",
    "\n",
    "print(score(G,G,np.arange(n)))\n",
    "\n",
    "for j in range(50):\n",
    "    for u in np.arange(n):\n",
    "        improvement = make_best_swap(G,H,mapping,u,scores_by_vertex)\n",
    "        score_track += improvement\n",
    "    print(f\"{j=}, {score_track=}\"+\" \"*10,end=\"\\r\")\n",
    "\n",
    "score(G,H,mapping),score(G,G,np.arange(n))"
   ]
  },
  {
   "cell_type": "code",
   "execution_count": 71,
   "metadata": {},
   "outputs": [
    {
     "name": "stdout",
     "output_type": "stream",
     "text": [
      "i=10523\r"
     ]
    }
   ],
   "source": [
    "G=B\n",
    "H=A\n",
    "start_mapping = -np.ones(N,dtype=int)\n",
    "choice = rng.choice(N,size=8000,replace=False)\n",
    "start_mapping[choice]=main_mapping[choice]\n",
    "\n",
    "next_mapping=greedy_max(G,H,start_mapping,verbose=True,c=0,injective=True)"
   ]
  },
  {
   "cell_type": "code",
   "execution_count": 72,
   "metadata": {},
   "outputs": [
    {
     "data": {
      "text/plain": [
       "5300886"
      ]
     },
     "execution_count": 72,
     "metadata": {},
     "output_type": "execute_result"
    }
   ],
   "source": [
    "mapping=next_mapping\n",
    "score(G,H,next_mapping)"
   ]
  }
 ],
 "metadata": {
  "kernelspec": {
   "display_name": "Python 3",
   "language": "python",
   "name": "python3"
  },
  "language_info": {
   "codemirror_mode": {
    "name": "ipython",
    "version": 3
   },
   "file_extension": ".py",
   "mimetype": "text/x-python",
   "name": "python",
   "nbconvert_exporter": "python",
   "pygments_lexer": "ipython3",
   "version": "3.10.8"
  }
 },
 "nbformat": 4,
 "nbformat_minor": 2
}

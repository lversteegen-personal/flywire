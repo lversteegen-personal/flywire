{
 "cells": [
  {
   "cell_type": "code",
   "execution_count": null,
   "metadata": {},
   "outputs": [],
   "source": [
    "#Only run in colab\n",
    "from google.colab import drive\n",
    "drive.mount('/content/drive')\n",
    "%cd /content/drive/MyDrive/Github/flywire"
   ]
  },
  {
   "cell_type": "code",
   "execution_count": 5,
   "metadata": {},
   "outputs": [],
   "source": [
    "import numpy as np\n",
    "import scipy as sp\n",
    "from utility import M,F, benchmark_mapping, get_best_connected, invert, score, get_highest_out_degrees\n",
    "rng = np.random.default_rng(0)"
   ]
  },
  {
   "cell_type": "code",
   "execution_count": 6,
   "metadata": {},
   "outputs": [
    {
     "data": {
      "text/plain": [
       "(0.4681, 0.243)"
      ]
     },
     "execution_count": 6,
     "metadata": {},
     "output_type": "execute_result"
    }
   ],
   "source": [
    "m,n = 50,100\n",
    "H_M,m_labels = get_best_connected(M,n)\n",
    "H_F,f_labels = get_best_connected(F,n)\n",
    "H_M = H_M.todense()\n",
    "H_F = H_F.todense()\n",
    "H_F[np.arange(n),np.arange(n)] = 0\n",
    "H_M[np.arange(n),np.arange(n)] = 0\n",
    "np.count_nonzero(H_M)/n**2, np.count_nonzero(H_F)/n**2"
   ]
  },
  {
   "cell_type": "code",
   "execution_count": 40,
   "metadata": {},
   "outputs": [],
   "source": [
    "def find_best_move(G,H, mapping, u, mask = None):\n",
    "\n",
    "    m = G.shape[0]\n",
    "    u_row = G[u,:]\n",
    "    u_rnz = np.flatnonzero(u_row)\n",
    "    u_row = u_row[u_rnz]\n",
    "    u_col = G[:,u]\n",
    "    u_cnz = np.flatnonzero(u_col)\n",
    "    u_col = u_col[u_cnz]\n",
    "\n",
    "    if mask is None:\n",
    "        n = H.shape[0]\n",
    "        X = H[:,mapping[None,u_rnz]].reshape((n,len(u_rnz)))\n",
    "        Y = H[mapping[u_cnz,None],:].reshape((len(u_cnz),n))\n",
    "    else:\n",
    "        X = H[mask,mapping[None,u_rnz]]\n",
    "        n = X.shape[0]\n",
    "        X = X.reshape((n,len(u_rnz)))\n",
    "        Y = H[mapping[u_cnz,None],mask].reshape((len(u_cnz),n))\n",
    "\n",
    "    scores = np.minimum(u_row[None,:],X).sum(axis=1) + np.minimum(u_col[:,None],Y).sum(axis=0)\n",
    "    scores -= np.minimum(G[u,u],H.diagonal())\n",
    "\n",
    "    return scores\n",
    "\n",
    "#The mask says which x in [n] are valid choices for mapping[u]. G and H must have 0-diagonal\n",
    "def make_best_swap(G,H, mapping, u, scores_by_vertex, mask = None):\n",
    "\n",
    "    if mask is None:\n",
    "        m = G.shape[0]\n",
    "        n = H.shape[0]\n",
    "    else:\n",
    "        in_image = np.zeros(len(mask),dtype=bool)\n",
    "        in_image[mapping] = True\n",
    "        H_mask = np.logical_and(in_image,mask)\n",
    "        G_mask = mask[mapping]\n",
    "        m = np.count_nonzero(G_mask)\n",
    "        n = np.count_nonzero(H_mask)\n",
    "\n",
    "    row = G[u,:]\n",
    "    rnz = np.flatnonzero(row)\n",
    "    row = row[rnz]\n",
    "    col = G[:,u]\n",
    "    cnz = np.flatnonzero(col)\n",
    "    col = col[cnz]\n",
    "\n",
    "    if mask is None:\n",
    "        X = H[mapping[:,None],mapping[None,rnz]].reshape((n,len(rnz)))\n",
    "        Y = H[mapping[cnz,None],mapping[None,:]].reshape((len(cnz),n))\n",
    "    else:\n",
    "        X = H[H_mask,mapping[None,rnz]].reshape((n,len(rnz)))\n",
    "        Y = H[mapping[cnz,None],H_mask].reshape((len(cnz),n))\n",
    "\n",
    "    u_scores = np.minimum(row[None,:],X).sum(axis=1) + np.minimum(col[:,None],Y).sum(axis=0)\n",
    "\n",
    "    f_u = mapping[u]\n",
    "\n",
    "    row = H[f_u,mapping]\n",
    "    rnz = np.flatnonzero(row)\n",
    "    row = row[rnz]\n",
    "    col = H[mapping,f_u]\n",
    "    cnz = np.flatnonzero(col)\n",
    "    col = col[cnz]\n",
    "\n",
    "    if mask is None:\n",
    "        X = G[:,rnz[None,:]].reshape((m,len(rnz)))\n",
    "        Y = G[cnz[:,None],:].reshape((len(cnz),m))\n",
    "    else:\n",
    "        X = G[G_mask,rnz[None,:]].reshape((m,len(rnz)))\n",
    "        Y = G[mapping[cnz,None],G_mask].reshape((len(cnz),m))\n",
    "\n",
    "    f_u_scores = np.minimum(row[None,:],X).sum(axis=1) + np.minimum(col[:,None],Y).sum(axis=0)\n",
    "\n",
    "    if mask is None:\n",
    "        scores = u_scores + f_u_scores + np.minimum(G[u,:],H[mapping,f_u])+np.minimum(G[:,u],H[f_u,mapping])\n",
    "        scores -= scores_by_vertex\n",
    "        scores -= scores_by_vertex[u]\n",
    "        #The actual change will be 2*scores[w], but this does not change which vertex we will choose for the swap.\n",
    "    else:\n",
    "        scores = u_scores + f_u_scores + np.minimum(G[u,G_mask],H[mapping[G_mask],f_u])+np.minimum(G[G_mask,u],H[f_u,mapping[G_mask]])\n",
    "        scores -= scores_by_vertex[G_mask]\n",
    "        scores -= scores_by_vertex[u]\n",
    "\n",
    "    w = scores.argmax()\n",
    "    if scores[w] > 0:\n",
    "\n",
    "        f_w = mapping[w]\n",
    "\n",
    "        scores_by_vertex += np.minimum(G[:,u],H[mapping,f_w])+np.minimum(G[u,:],H[f_w,mapping])+np.minimum(G[:,w],H[mapping,f_u])+np.minimum(G[w,:],H[f_u,mapping])\n",
    "        scores_by_vertex -= np.minimum(G[:,u],H[mapping,f_u])+np.minimum(G[u,:],H[f_u,mapping])+np.minimum(G[:,w],H[mapping,f_w])+np.minimum(G[w,:],H[f_w,mapping])\n",
    "\n",
    "        scores_by_vertex[u] = u_scores[w]+ np.minimum(G[u,w],H[f_w,f_u])+np.minimum(G[w,u],H[f_u,f_w])\n",
    "        scores_by_vertex[w] = f_u_scores[w]+ np.minimum(G[u,w],H[f_w,f_u])+np.minimum(G[w,u],H[f_u,f_w])\n",
    "\n",
    "        mapping[u] = f_w\n",
    "        mapping[w] = f_u\n",
    "\n",
    "        return scores[w]//2\n",
    "    \n",
    "    else:\n",
    "        return 0\n",
    "    \n",
    "def get_scores_by_vertex(G,H,mapping):\n",
    "\n",
    "    m = G.shape[0]\n",
    "    scores = np.minimum(G,H[mapping[:,None],mapping[None,:]])\n",
    "    return scores.sum(axis=0)+scores.sum(axis=1)"
   ]
  },
  {
   "cell_type": "code",
   "execution_count": 10,
   "metadata": {},
   "outputs": [
    {
     "name": "stdout",
     "output_type": "stream",
     "text": [
      "k=229, i=4, top_score=3651                    \r"
     ]
    },
    {
     "ename": "KeyboardInterrupt",
     "evalue": "",
     "output_type": "error",
     "traceback": [
      "\u001b[1;31m---------------------------------------------------------------------------\u001b[0m",
      "\u001b[1;31mKeyboardInterrupt\u001b[0m                         Traceback (most recent call last)",
      "Cell \u001b[1;32mIn [10], line 33\u001b[0m\n\u001b[0;32m     29\u001b[0m unchanged \u001b[38;5;241m=\u001b[39m \u001b[38;5;28;01mTrue\u001b[39;00m\n\u001b[0;32m     31\u001b[0m \u001b[38;5;28;01mfor\u001b[39;00m u \u001b[38;5;129;01min\u001b[39;00m rng\u001b[38;5;241m.\u001b[39mpermutation(m):\n\u001b[1;32m---> 33\u001b[0m     change_scores \u001b[38;5;241m=\u001b[39m \u001b[43mfind_best_move\u001b[49m\u001b[43m(\u001b[49m\u001b[43mG\u001b[49m\u001b[43m,\u001b[49m\u001b[43mH\u001b[49m\u001b[43m,\u001b[49m\u001b[43mmapping\u001b[49m\u001b[43m,\u001b[49m\u001b[43mu\u001b[49m\u001b[43m)\u001b[49m\n\u001b[0;32m     34\u001b[0m     w \u001b[38;5;241m=\u001b[39m (change_scores\u001b[38;5;241m*\u001b[39munmapped)\u001b[38;5;241m.\u001b[39margmax()\n\u001b[0;32m     36\u001b[0m     \u001b[38;5;28;01mif\u001b[39;00m change_scores[w] \u001b[38;5;241m>\u001b[39m change_scores[mapping[u]]:\n",
      "Cell \u001b[1;32mIn [9], line 14\u001b[0m, in \u001b[0;36mfind_best_move\u001b[1;34m(G, H, mapping, u, mask)\u001b[0m\n\u001b[0;32m     12\u001b[0m     n \u001b[38;5;241m=\u001b[39m H\u001b[38;5;241m.\u001b[39mshape[\u001b[38;5;241m0\u001b[39m]\n\u001b[0;32m     13\u001b[0m     X \u001b[38;5;241m=\u001b[39m H[:,mapping[\u001b[38;5;28;01mNone\u001b[39;00m,u_rnz]]\u001b[38;5;241m.\u001b[39mreshape((n,\u001b[38;5;28mlen\u001b[39m(u_rnz)))\n\u001b[1;32m---> 14\u001b[0m     Y \u001b[38;5;241m=\u001b[39m H[mapping[u_cnz,\u001b[38;5;28;01mNone\u001b[39;00m],:]\u001b[38;5;241m.\u001b[39mreshape((\u001b[38;5;28;43mlen\u001b[39;49m\u001b[43m(\u001b[49m\u001b[43mu_cnz\u001b[49m\u001b[43m)\u001b[49m,n))\n\u001b[0;32m     15\u001b[0m \u001b[38;5;28;01melse\u001b[39;00m:\n\u001b[0;32m     16\u001b[0m     X \u001b[38;5;241m=\u001b[39m H[mask,mapping[\u001b[38;5;28;01mNone\u001b[39;00m,u_rnz]]\n",
      "\u001b[1;31mKeyboardInterrupt\u001b[0m: "
     ]
    }
   ],
   "source": [
    "result_matrix = np.zeros((n,n),dtype=int)\n",
    "score_track = []\n",
    "mapping_save = []\n",
    "\n",
    "for k in range(500):\n",
    "\n",
    "    mapping_M = rng.choice(n,m,replace=False)\n",
    "    mapping_F = rng.choice(n,m,replace=False)\n",
    "\n",
    "    for i in range(50):\n",
    "\n",
    "        outer_unchanged = True\n",
    "\n",
    "        if i % 2 == 0:\n",
    "            G = H_F[mapping_F[:,None],mapping_F[None,:]]\n",
    "            H = H_M\n",
    "            mapping = mapping_M.copy()\n",
    "        else:\n",
    "            G = H_M[mapping_M[:,None],mapping_M[None,:]]\n",
    "            H = H_F\n",
    "            mapping = mapping_F.copy()\n",
    "\n",
    "        unmapped = np.ones(n,dtype=bool)\n",
    "        unmapped[mapping] = False\n",
    "        top_score = score(G,H,mapping,require_surjective=False)\n",
    "        \n",
    "        for j in range(50):\n",
    "\n",
    "            unchanged = True\n",
    "\n",
    "            for u in rng.permutation(m):\n",
    "\n",
    "                change_scores = find_best_move(G,H,mapping,u)\n",
    "                w = (change_scores*unmapped).argmax()\n",
    "\n",
    "                if change_scores[w] > change_scores[mapping[u]]:\n",
    "                    top_score = top_score + change_scores[w]-change_scores[mapping[u]]\n",
    "\n",
    "                    unmapped[mapping[u]] = True\n",
    "                    unmapped[w] = False\n",
    "                    mapping[u] = w\n",
    "                    unchanged = False\n",
    "                    outer_unchanged = False\n",
    "\n",
    "            if unchanged:\n",
    "                break\n",
    "        \n",
    "        if i % 2 == 0:\n",
    "            mapping_M = mapping.copy()\n",
    "        else:\n",
    "            mapping_F = mapping.copy()\n",
    "\n",
    "        if outer_unchanged:\n",
    "            print(f\"{k=}, {i=}, {top_score=}\"+\" \"*20,end=\"\\r\")\n",
    "            break\n",
    "\n",
    "    A = H_F[mapping_F[:,None],mapping_F[None,:]]\n",
    "    B = H_M[mapping_M[:,None],mapping_M[None,:]]\n",
    "\n",
    "    score_track.append((score(G,H,mapping,require_surjective=False), score(A,A,np.arange(m)), score(B,B,np.arange(m))))\n",
    "    mapping_save.append((mapping_F,mapping_M))\n",
    "    result_matrix[mapping_F,mapping_M] += 1"
   ]
  },
  {
   "cell_type": "code",
   "execution_count": null,
   "metadata": {},
   "outputs": [],
   "source": [
    "np.concatenate([m_labels[mapping_M,None],f_labels[mapping_F,None]],axis=1)"
   ]
  },
  {
   "cell_type": "code",
   "execution_count": 36,
   "metadata": {},
   "outputs": [],
   "source": [
    "A=M.todense()\n",
    "B=F.todense()\n",
    "N=A.shape[0]\n",
    "A[np.arange(N),np.arange(N)]=0\n",
    "B[np.arange(N),np.arange(N)]=0"
   ]
  },
  {
   "cell_type": "code",
   "execution_count": 37,
   "metadata": {},
   "outputs": [
    {
     "data": {
      "text/plain": [
       "45197"
      ]
     },
     "execution_count": 37,
     "metadata": {},
     "output_type": "execute_result"
    }
   ],
   "source": [
    "G= B\n",
    "H=A\n",
    "mapping = rng.permutation(N)\n",
    "score(G,H,mapping)"
   ]
  },
  {
   "cell_type": "code",
   "execution_count": 41,
   "metadata": {},
   "outputs": [
    {
     "name": "stdout",
     "output_type": "stream",
     "text": [
      "u=2754, score_track=174364\r"
     ]
    },
    {
     "ename": "KeyboardInterrupt",
     "evalue": "",
     "output_type": "error",
     "traceback": [
      "\u001b[1;31m---------------------------------------------------------------------------\u001b[0m",
      "\u001b[1;31mKeyboardInterrupt\u001b[0m                         Traceback (most recent call last)",
      "Cell \u001b[1;32mIn [41], line 5\u001b[0m\n\u001b[0;32m      2\u001b[0m score_track\u001b[38;5;241m=\u001b[39mscore(G,H,mapping)\n\u001b[0;32m      4\u001b[0m \u001b[38;5;28;01mfor\u001b[39;00m u \u001b[38;5;129;01min\u001b[39;00m np\u001b[38;5;241m.\u001b[39marange(N):\n\u001b[1;32m----> 5\u001b[0m     improvement \u001b[38;5;241m=\u001b[39m \u001b[43mmake_best_swap\u001b[49m\u001b[43m(\u001b[49m\u001b[43mG\u001b[49m\u001b[43m,\u001b[49m\u001b[43mH\u001b[49m\u001b[43m,\u001b[49m\u001b[43mmapping\u001b[49m\u001b[43m,\u001b[49m\u001b[43mu\u001b[49m\u001b[43m,\u001b[49m\u001b[43mscores_by_vertex\u001b[49m\u001b[43m)\u001b[49m\n\u001b[0;32m      6\u001b[0m     score_track \u001b[38;5;241m+\u001b[39m\u001b[38;5;241m=\u001b[39m improvement\n\u001b[0;32m      7\u001b[0m     \u001b[38;5;28mprint\u001b[39m(\u001b[38;5;124mf\u001b[39m\u001b[38;5;124m\"\u001b[39m\u001b[38;5;132;01m{\u001b[39;00mu\u001b[38;5;132;01m=}\u001b[39;00m\u001b[38;5;124m, \u001b[39m\u001b[38;5;132;01m{\u001b[39;00mscore_track\u001b[38;5;132;01m=}\u001b[39;00m\u001b[38;5;124m\"\u001b[39m,end\u001b[38;5;241m=\u001b[39m\u001b[38;5;124m\"\u001b[39m\u001b[38;5;130;01m\\r\u001b[39;00m\u001b[38;5;124m\"\u001b[39m)\n",
      "Cell \u001b[1;32mIn [40], line 48\u001b[0m, in \u001b[0;36mmake_best_swap\u001b[1;34m(G, H, mapping, u, scores_by_vertex, mask)\u001b[0m\n\u001b[0;32m     45\u001b[0m col \u001b[38;5;241m=\u001b[39m col[cnz]\n\u001b[0;32m     47\u001b[0m \u001b[38;5;28;01mif\u001b[39;00m mask \u001b[38;5;129;01mis\u001b[39;00m \u001b[38;5;28;01mNone\u001b[39;00m:\n\u001b[1;32m---> 48\u001b[0m     X \u001b[38;5;241m=\u001b[39m H[mapping[:,\u001b[38;5;28;01mNone\u001b[39;00m],mapping[\u001b[38;5;28;01mNone\u001b[39;00m,rnz]]\u001b[38;5;241m.\u001b[39mreshape((n,\u001b[38;5;28;43mlen\u001b[39;49m\u001b[43m(\u001b[49m\u001b[43mrnz\u001b[49m\u001b[43m)\u001b[49m))\n\u001b[0;32m     49\u001b[0m     Y \u001b[38;5;241m=\u001b[39m H[mapping[cnz,\u001b[38;5;28;01mNone\u001b[39;00m],mapping[\u001b[38;5;28;01mNone\u001b[39;00m,:]]\u001b[38;5;241m.\u001b[39mreshape((\u001b[38;5;28mlen\u001b[39m(cnz),n))\n\u001b[0;32m     50\u001b[0m \u001b[38;5;28;01melse\u001b[39;00m:\n",
      "\u001b[1;31mKeyboardInterrupt\u001b[0m: "
     ]
    }
   ],
   "source": [
    "scores_by_vertex = get_scores_by_vertex(G,H,mapping)\n",
    "score_track=score(G,H,mapping)\n",
    "\n",
    "for u in np.arange(N):\n",
    "    improvement = make_best_swap(G,H,mapping,u,scores_by_vertex)\n",
    "    score_track += improvement\n",
    "    print(f\"{u=}, {score_track=}\",end=\"\\r\")\n",
    "\n",
    "scores_by_vertex.sum()/2, score(G,H,mapping)"
   ]
  },
  {
   "cell_type": "code",
   "execution_count": 57,
   "metadata": {},
   "outputs": [],
   "source": [
    "def greedy_max(A, B, start_mapping = None, similarity = None, c=0.1, verbose = True, injective = True):\n",
    "    n = A.shape[0]\n",
    "\n",
    "    if start_mapping is None:\n",
    "        mapping = -np.ones(n,dtype=int)\n",
    "        unmapped_source = np.ones(n,dtype=bool)\n",
    "        unmapped_target = np.ones(n,dtype=bool)\n",
    "    else:\n",
    "        mapping = start_mapping.copy()\n",
    "        unmapped_source = mapping < 0\n",
    "        unmapped_target = np.ones(n,dtype=bool)\n",
    "        unmapped_target[mapping[np.logical_not(unmapped_source)]] = False\n",
    "\n",
    "    priority = c*np.log1p(A.sum(axis=1))\n",
    "\n",
    "    if similarity is None:\n",
    "        if start_mapping is None:\n",
    "            similarity = np.minimum(A.sum(axis=1).reshape(-1,1),B.sum(axis=1).reshape(1,-1))\n",
    "            similarity += np.minimum(A.sum(axis=0).reshape(-1,1),B.sum(axis=0).reshape(1,-1))\n",
    "            similarity = np.log1p(similarity)\n",
    "        else:\n",
    "            similarity = np.zeros((n,n),dtype=np.int64)\n",
    "            for u in np.flatnonzero(np.logical_not(unmapped_source)):\n",
    "                v = mapping[u]\n",
    "\n",
    "                u_out = np.flatnonzero(A[u,:])\n",
    "                u_out = u_out[unmapped_source[u_out]]\n",
    "                v_out = np.flatnonzero(B[v,:])  \n",
    "                v_out = v_out[unmapped_target[v_out]]\n",
    "\n",
    "                min_out = np.minimum.outer(A[[u],u_out],B[[v],v_out])\n",
    "                np.add.at(similarity,(u_out[:,None],v_out[None,:]),min_out)\n",
    "\n",
    "                u_in = np.flatnonzero(A[:,u])\n",
    "                u_in = u_in[unmapped_source[u_in]]\n",
    "                v_in = np.flatnonzero(B[:,v])\n",
    "                v_in = v_in[unmapped_target[v_in]]\n",
    "\n",
    "                min_in = np.minimum.outer(A[u_in,[u]],B[v_in,[v]])\n",
    "                np.add.at(similarity,(u_in[:,None],v_in[None,:]),min_in)\n",
    "\n",
    "            priority = similarity.max(axis=1)\n",
    "            priority[np.logical_not(unmapped_source)] = -1\n",
    "            if injective:\n",
    "                similarity[:,np.logical_not(unmapped_target)] = -1\n",
    "\n",
    "\n",
    "    for i in range(np.count_nonzero(unmapped_source)):\n",
    "\n",
    "        u = priority.argmax()\n",
    "        v = similarity[u,:].argmax()\n",
    "        \n",
    "        u_out = np.flatnonzero(A[u,:])\n",
    "        v_out = np.flatnonzero(B[v,:])  \n",
    "        if injective:\n",
    "            u_out = u_out[unmapped_source[u_out]]\n",
    "            v_out = v_out[unmapped_target[v_out]]\n",
    "\n",
    "        min_out = np.minimum.outer(A[[u],u_out],B[[v],v_out])\n",
    "        np.add.at(similarity,(u_out[:,None],v_out[None,:]),min_out)\n",
    "\n",
    "        u_in = np.flatnonzero(A[:,u])\n",
    "        v_in = np.flatnonzero(B[:,v])\n",
    "\n",
    "        if injective:\n",
    "            u_in = u_in[unmapped_source[u_in]]\n",
    "            v_in = v_in[unmapped_target[v_in]]\n",
    "\n",
    "        min_in = np.minimum.outer(A[u_in,[u]],B[v_in,[v]])\n",
    "        np.add.at(similarity,(u_in[:,None],v_in[None,:]),min_in)\n",
    "\n",
    "        unmapped_source[u] = False\n",
    "        unmapped_target[v] = False\n",
    "        mapping[u]=v\n",
    "\n",
    "        u_out = u_out[unmapped_source[u_out]]\n",
    "        v_out = v_out[unmapped_target[v_out]]\n",
    "        u_in = u_in[unmapped_source[u_in]]\n",
    "        v_in = v_in[unmapped_target[v_in]]\n",
    "        if (len(u_out)>0 and len(v_out)>0):\n",
    "            priority[u_out] = np.maximum(priority[u_out],similarity[u_out[:,None],v_out[None,:]].argmax(axis=1))\n",
    "        if (len(u_in)>0 and len(v_in)>0):\n",
    "            priority[u_in] = np.maximum(priority[u_in],similarity[u_in[:,None],v_in[None,:]].argmax(axis=1))\n",
    "        if injective:\n",
    "            similarity[:,v] = -1\n",
    "            similarity[u,:] = -1\n",
    "            \n",
    "        priority[u] = -1\n",
    "\n",
    "        if verbose:\n",
    "            print(f\"{i=}\",end=\"\\r\")\n",
    "\n",
    "    return mapping"
   ]
  },
  {
   "cell_type": "code",
   "execution_count": 5,
   "metadata": {},
   "outputs": [
    {
     "name": "stdout",
     "output_type": "stream",
     "text": [
      "i=99\r"
     ]
    }
   ],
   "source": [
    "rng = np.random.default_rng()\n",
    "from algorithms import greedy_mapping\n",
    "#start_mapping=-np.ones(N,dtype=int)\n",
    "inverse_benchmark = invert(benchmark_mapping)\n",
    "#start_mapping[f_labels[mapping_F]]=m_labels[mapping_M]\n",
    "#random_set = rng.choice(N,500,replace=False)\n",
    "#start_mapping[:500] = inverse_benchmark[:500]\n",
    "mapping = greedy_max(H_F,H_M,start_mapping=None, c=0.1)"
   ]
  },
  {
   "cell_type": "code",
   "execution_count": 34,
   "metadata": {},
   "outputs": [
    {
     "name": "stdout",
     "output_type": "stream",
     "text": [
      "i=99\r"
     ]
    }
   ],
   "source": [
    "results = np.zeros((n,n),dtype=int)\n",
    "for i in range(n):\n",
    "    for j in range(n):\n",
    "        if i==j:\n",
    "            continue\n",
    "        start_mapping = -np.ones(n,dtype=int)\n",
    "        start_mapping[0]=i\n",
    "        start_mapping[1]=j\n",
    "        mapping=greedy_max(H_F,H_M,start_mapping,verbose=False,c=0)\n",
    "        results[i,j] = score(H_F,H_M,mapping)\n",
    "        print(f\"{i=}\",end=\"\\r\")"
   ]
  },
  {
   "cell_type": "code",
   "execution_count": 87,
   "metadata": {},
   "outputs": [
    {
     "data": {
      "text/plain": [
       "11233"
      ]
     },
     "execution_count": 87,
     "metadata": {},
     "output_type": "execute_result"
    }
   ],
   "source": [
    "m_labels=inverse_benchmark[f_labels]\n",
    "H_M = (M[m_labels[:,None],m_labels[None,:]]).todense()\n",
    "score(H_F,H_M,np.arange(n))"
   ]
  },
  {
   "cell_type": "code",
   "execution_count": 91,
   "metadata": {},
   "outputs": [
    {
     "name": "stdout",
     "output_type": "stream",
     "text": [
      "i=99, high_score=13197, save_count=14\r"
     ]
    },
    {
     "data": {
      "text/plain": [
       "array([60, 51,  7,  7, 60, 51, 45,  7, 70, 91, 64, 51, 51, 60, 70, 70, 70,\n",
       "       51, 64, 70, 64, 91, 70, 64, 45, 60, 70, 60, 52, 51, 44, 60, 70, 70,\n",
       "       64, 91, 60,  7, 64, 70,  7, 60, 91, 70, 51, 51, 91, 51, 64, 60, 51,\n",
       "        7, 91, 60, 60,  7, 70, 91, 64, 64, 64,  7,  7,  7, 64, 70, 86, 51,\n",
       "       91, 60, 51, 60, 60, 51, 51, 51, 51, 64, 64,  7, 44, 70, 70, 64,  7,\n",
       "       64, 64, 44,  7, 45, 91, 91, 51,  7, 64, 60, 51, 91, 70,  7])"
      ]
     },
     "execution_count": 91,
     "metadata": {},
     "output_type": "execute_result"
    }
   ],
   "source": [
    "from algorithms import random_swaps\n",
    "\n",
    "mapping = rng.permutation(n)\n",
    "G=H_F\n",
    "H=H_M\n",
    "high_score = score(G,H,mapping,require_surjective=False)\n",
    "last_change = 0\n",
    "save_count = 8\n",
    "\n",
    "for i in range(100):\n",
    "    start_mapping = -np.ones(n,dtype=int)\n",
    "    #choice = np.concatenate([np.arange(100),rng.choice(np.arange(100,n),size=save_count,replace=False)])\n",
    "    choice = rng.choice(n,size=save_count,replace=False)\n",
    "    start_mapping[choice]=mapping[choice]\n",
    "\n",
    "    next_mapping=greedy_max(G,H,start_mapping,verbose=False,c=0.1,injective=False)\n",
    "    random_swaps(G,H,next_mapping,5000,verbose=False)\n",
    "\n",
    "    current_score = score(G,H,next_mapping,require_surjective=False)\n",
    "\n",
    "    if current_score>high_score:\n",
    "        high_score=current_score\n",
    "        mapping = next_mapping\n",
    "        last_change = i\n",
    "    elif i-last_change >10:\n",
    "        save_count += 1\n",
    "        last_change = i\n",
    "\n",
    "    print(f\"{i=}, {high_score=}, {save_count=}\",end=\"\\r\")\n",
    "\n",
    "mapping"
   ]
  },
  {
   "cell_type": "code",
   "execution_count": null,
   "metadata": {},
   "outputs": [
    {
     "name": "stdout",
     "output_type": "stream",
     "text": [
      "i=4, top_score=4320                    \r"
     ]
    }
   ],
   "source": [
    "m=50\n",
    "mapping_M = rng.choice(n,m,replace=False)\n",
    "mapping_F = rng.choice(n,m,replace=False)\n",
    "\n",
    "for i in range(50):\n",
    "\n",
    "    outer_unchanged = True\n",
    "\n",
    "    if i % 2 == 0:\n",
    "        G = H_F[mapping_F[:,None],mapping_F[None,:]]\n",
    "        H = H_M\n",
    "        mapping = mapping_M.copy()\n",
    "    else:\n",
    "        G = H_M[mapping_M[:,None],mapping_M[None,:]]\n",
    "        H = H_F\n",
    "        mapping = mapping_F.copy()\n",
    "\n",
    "    unmapped = np.ones(n,dtype=bool)\n",
    "    unmapped[mapping] = False\n",
    "    top_score = score(G,H,mapping,require_surjective=False)\n",
    "    \n",
    "    for j in range(50):\n",
    "\n",
    "        unchanged = True\n",
    "\n",
    "        for u in rng.permutation(m):\n",
    "\n",
    "            change_scores = find_best_move(G,H,mapping,u)\n",
    "            w = (change_scores*unmapped).argmax()\n",
    "\n",
    "            if change_scores[w] > change_scores[mapping[u]]:\n",
    "                top_score = top_score + change_scores[w]-change_scores[mapping[u]]\n",
    "\n",
    "                unmapped[mapping[u]] = True\n",
    "                unmapped[w] = False\n",
    "                mapping[u] = w\n",
    "                unchanged = False\n",
    "                outer_unchanged = False\n",
    "\n",
    "        if unchanged:\n",
    "            break\n",
    "    \n",
    "    if i % 2 == 0:\n",
    "        mapping_M = mapping.copy()\n",
    "    else:\n",
    "        mapping_F = mapping.copy()\n",
    "\n",
    "    if outer_unchanged:\n",
    "        print(f\"{i=}, {top_score=}\"+\" \"*20,end=\"\\r\")\n",
    "        break"
   ]
  }
 ],
 "metadata": {
  "kernelspec": {
   "display_name": "Python 3",
   "language": "python",
   "name": "python3"
  },
  "language_info": {
   "codemirror_mode": {
    "name": "ipython",
    "version": 3
   },
   "file_extension": ".py",
   "mimetype": "text/x-python",
   "name": "python",
   "nbconvert_exporter": "python",
   "pygments_lexer": "ipython3",
   "version": "3.10.8"
  }
 },
 "nbformat": 4,
 "nbformat_minor": 2
}

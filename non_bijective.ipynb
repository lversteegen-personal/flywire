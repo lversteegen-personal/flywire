{
 "cells": [
  {
   "cell_type": "code",
   "execution_count": 16,
   "metadata": {},
   "outputs": [],
   "source": [
    "import numpy as np\n",
    "import scipy as sp\n",
    "from utility import M,F, benchmark_mapping, get_best_connected, invert, score, get_highest_out_degrees\n",
    "rng = np.random.default_rng(0)"
   ]
  },
  {
   "cell_type": "code",
   "execution_count": 4,
   "metadata": {},
   "outputs": [
    {
     "data": {
      "text/plain": [
       "(0.204576, 0.2318)"
      ]
     },
     "execution_count": 4,
     "metadata": {},
     "output_type": "execute_result"
    }
   ],
   "source": [
    "m,n = 100,500\n",
    "H_M,M_positions = get_highest_out_degrees(M,n)\n",
    "H_F,F_positions = get_highest_out_degrees(F,m)\n",
    "H_M = H_M.todense()\n",
    "H_F = H_F.todense()\n",
    "H_F[np.arange(m),np.arange(m)] = 0\n",
    "H_M[np.arange(n),np.arange(n)] = 0\n",
    "np.count_nonzero(H_M)/n**2, np.count_nonzero(H_F)/m**2"
   ]
  },
  {
   "cell_type": "code",
   "execution_count": 2,
   "metadata": {},
   "outputs": [],
   "source": [
    "A=M.todense()\n",
    "B=F.todense()\n",
    "N=A.shape[0]\n",
    "A[np.arange(N),np.arange(N)]=0\n",
    "B[np.arange(N),np.arange(N)]=0"
   ]
  },
  {
   "cell_type": "code",
   "execution_count": 4,
   "metadata": {},
   "outputs": [],
   "source": [
    "mapping = invert(benchmark_mapping)"
   ]
  },
  {
   "cell_type": "code",
   "execution_count": 52,
   "metadata": {},
   "outputs": [],
   "source": [
    "def get_scores_by_vertex(G,H,mapping):\n",
    "\n",
    "    m = G.shape[0]\n",
    "    scores = np.minimum(G,H[mapping[:,None],mapping[None,:]])\n",
    "    return scores.sum(axis=0)+scores.sum(axis=1)\n",
    "\n",
    "def move_or_swap(G,H, mapping, u, scores_by_vertex, usage, penalty_gradient):\n",
    "\n",
    "    m = G.shape[0]\n",
    "    n = H.shape[0]\n",
    "    f_u = mapping[u]\n",
    "\n",
    "    row = G[u,:]\n",
    "    rnz = np.flatnonzero(row)\n",
    "    row = row[rnz]\n",
    "    col = G[:,u]\n",
    "    cnz = np.flatnonzero(col)\n",
    "    col = col[cnz]\n",
    "\n",
    "    X = H[:,mapping[None,rnz]].reshape((n,len(rnz)))\n",
    "    Y = H[mapping[cnz,None],:].reshape((len(cnz),n))\n",
    "\n",
    "    base_scores = np.minimum(row[None,:],X).sum(axis=1) + np.minimum(col[:,None],Y).sum(axis=0)\n",
    "    u_scores = base_scores[mapping]\n",
    "\n",
    "    move_scores = base_scores - base_scores[f_u]\n",
    "    move_scores -= penalty_gradient(usage) \n",
    "    move_scores += penalty_gradient(usage[f_u]-1)\n",
    "    move_scores[u] = 0\n",
    "\n",
    "    row = H[f_u,mapping]\n",
    "    rnz = np.flatnonzero(row)\n",
    "    row = row[rnz]\n",
    "    col = H[mapping,f_u]\n",
    "    cnz = np.flatnonzero(col)\n",
    "    col = col[cnz]\n",
    "\n",
    "    X = G[:,rnz[None,:]].reshape((m,len(rnz)))\n",
    "    Y = G[cnz[:,None],:].reshape((len(cnz),m))\n",
    "\n",
    "    f_u_scores = np.minimum(row[None,:],X).sum(axis=1) + np.minimum(col[:,None],Y).sum(axis=0)\n",
    "\n",
    "    swap_scores = u_scores + f_u_scores + np.minimum(G[u,:],H[mapping,f_u])+np.minimum(G[:,u],H[f_u,mapping])\n",
    "    swap_scores -= scores_by_vertex\n",
    "    swap_scores -= scores_by_vertex[u]\n",
    "    swap_scores += np.minimum(G[u,:],H[f_u,mapping])+np.minimum(G[:,u],H[mapping,f_u])\n",
    "\n",
    "    x = move_scores.argmax()\n",
    "    w = swap_scores.argmax()\n",
    "    if swap_scores[w] > 0 and swap_scores[w] >= move_scores[x]:\n",
    "\n",
    "        f_w = mapping[w]\n",
    "\n",
    "        scores_by_vertex += np.minimum(G[:,u],H[mapping,f_w])+np.minimum(G[u,:],H[f_w,mapping])+np.minimum(G[:,w],H[mapping,f_u])+np.minimum(G[w,:],H[f_u,mapping])\n",
    "        scores_by_vertex -= np.minimum(G[:,u],H[mapping,f_u])+np.minimum(G[u,:],H[f_u,mapping])+np.minimum(G[:,w],H[mapping,f_w])+np.minimum(G[w,:],H[f_w,mapping])\n",
    "\n",
    "        scores_by_vertex[u] = u_scores[w]+ np.minimum(G[u,w],H[f_w,f_u])+np.minimum(G[w,u],H[f_u,f_w])\n",
    "        scores_by_vertex[w] = f_u_scores[w]+ np.minimum(G[u,w],H[f_w,f_u])+np.minimum(G[w,u],H[f_u,f_w])\n",
    "\n",
    "        mapping[u] = f_w\n",
    "        mapping[w] = f_u\n",
    "\n",
    "        return swap_scores[w]\n",
    "    elif move_scores[x] > 0:\n",
    "\n",
    "        scores_by_vertex += np.minimum(G[:,u],H[mapping,x])+np.minimum(G[u,:],H[x,mapping]) - np.minimum(G[:,u],H[mapping,f_u])- np.minimum(G[u,:],H[f_u,mapping])\n",
    "        \n",
    "        scores_by_vertex[u] = base_scores[x]\n",
    "\n",
    "        mapping[u] = x\n",
    "        usage[f_u] -= 1\n",
    "        usage[x] += 1\n",
    "\n",
    "        return base_scores[x] - base_scores[f_u]\n",
    "    else:\n",
    "        return 0"
   ]
  },
  {
   "cell_type": "code",
   "execution_count": 54,
   "metadata": {},
   "outputs": [
    {
     "name": "stdout",
     "output_type": "stream",
     "text": [
      "i=0, j=600, score_track=5776065, unique=15849\r"
     ]
    },
    {
     "ename": "KeyboardInterrupt",
     "evalue": "",
     "output_type": "error",
     "traceback": [
      "\u001b[1;31m---------------------------------------------------------------------------\u001b[0m",
      "\u001b[1;31mKeyboardInterrupt\u001b[0m                         Traceback (most recent call last)",
      "Cell \u001b[1;32mIn [54], line 16\u001b[0m\n\u001b[0;32m     14\u001b[0m \u001b[38;5;28;01mfor\u001b[39;00m i \u001b[38;5;129;01min\u001b[39;00m \u001b[38;5;28mrange\u001b[39m(\u001b[38;5;241m5\u001b[39m):\n\u001b[0;32m     15\u001b[0m   \u001b[38;5;28;01mfor\u001b[39;00m j,u \u001b[38;5;129;01min\u001b[39;00m \u001b[38;5;28menumerate\u001b[39m(rng\u001b[38;5;241m.\u001b[39mpermutation(N)):\n\u001b[1;32m---> 16\u001b[0m     improvement \u001b[38;5;241m=\u001b[39m \u001b[43mmove_or_swap\u001b[49m\u001b[43m(\u001b[49m\u001b[43mG\u001b[49m\u001b[43m,\u001b[49m\u001b[43mH\u001b[49m\u001b[43m,\u001b[49m\u001b[43mmapping\u001b[49m\u001b[43m,\u001b[49m\u001b[43mu\u001b[49m\u001b[43m,\u001b[49m\u001b[43mscores_by_vertex\u001b[49m\u001b[43m,\u001b[49m\u001b[43musage\u001b[49m\u001b[43m,\u001b[49m\u001b[43mpenalty_gradient\u001b[49m\u001b[38;5;241;43m=\u001b[39;49m\u001b[43mpenalty_gradient\u001b[49m\u001b[43m)\u001b[49m\n\u001b[0;32m     17\u001b[0m     score_track \u001b[38;5;241m+\u001b[39m\u001b[38;5;241m=\u001b[39m improvement\n\u001b[0;32m     18\u001b[0m     \u001b[38;5;28;01mif\u001b[39;00m j\u001b[38;5;241m%\u001b[39m\u001b[38;5;241m20\u001b[39m\u001b[38;5;241m==\u001b[39m\u001b[38;5;241m0\u001b[39m:\n",
      "Cell \u001b[1;32mIn [52], line 38\u001b[0m, in \u001b[0;36mmove_or_swap\u001b[1;34m(G, H, mapping, u, scores_by_vertex, usage, penalty_gradient)\u001b[0m\n\u001b[0;32m     35\u001b[0m cnz \u001b[38;5;241m=\u001b[39m np\u001b[38;5;241m.\u001b[39mflatnonzero(col)\n\u001b[0;32m     36\u001b[0m col \u001b[38;5;241m=\u001b[39m col[cnz]\n\u001b[1;32m---> 38\u001b[0m X \u001b[38;5;241m=\u001b[39m G[:,rnz[\u001b[38;5;28;01mNone\u001b[39;00m,:]]\u001b[38;5;241m.\u001b[39mreshape((m,\u001b[38;5;28;43mlen\u001b[39;49m\u001b[43m(\u001b[49m\u001b[43mrnz\u001b[49m\u001b[43m)\u001b[49m))\n\u001b[0;32m     39\u001b[0m Y \u001b[38;5;241m=\u001b[39m G[cnz[:,\u001b[38;5;28;01mNone\u001b[39;00m],:]\u001b[38;5;241m.\u001b[39mreshape((\u001b[38;5;28mlen\u001b[39m(cnz),m))\n\u001b[0;32m     41\u001b[0m f_u_scores \u001b[38;5;241m=\u001b[39m np\u001b[38;5;241m.\u001b[39mminimum(row[\u001b[38;5;28;01mNone\u001b[39;00m,:],X)\u001b[38;5;241m.\u001b[39msum(axis\u001b[38;5;241m=\u001b[39m\u001b[38;5;241m1\u001b[39m) \u001b[38;5;241m+\u001b[39m np\u001b[38;5;241m.\u001b[39mminimum(col[:,\u001b[38;5;28;01mNone\u001b[39;00m],Y)\u001b[38;5;241m.\u001b[39msum(axis\u001b[38;5;241m=\u001b[39m\u001b[38;5;241m0\u001b[39m)\n",
      "\u001b[1;31mKeyboardInterrupt\u001b[0m: "
     ]
    }
   ],
   "source": [
    "G=B\n",
    "H=A\n",
    "\n",
    "top_score = score(G,H,mapping,require_surjective=False)\n",
    "usage = np.zeros(mapping.shape,dtype=np.int32)\n",
    "np.add.at(usage,mapping,1)\n",
    "scores_by_vertex = get_scores_by_vertex(G,H,mapping)\n",
    "score_track=scores_by_vertex.sum()//2\n",
    "\n",
    "def penalty_gradient(usage):\n",
    "   \n",
    "   return 4*usage\n",
    "\n",
    "for i in range(5):\n",
    "  for j,u in enumerate(rng.permutation(N)):\n",
    "    improvement = move_or_swap(G,H,mapping,u,scores_by_vertex,usage,penalty_gradient=penalty_gradient)\n",
    "    score_track += improvement\n",
    "    if j%20==0:\n",
    "      print(f\"{i=}, {j=}, {score_track=}, unique={len(np.unique(mapping))}\",end=\"\\r\")\n",
    "\n",
    "score(G,H,mapping,require_surjective=False), score(G,G,np.arange(N))"
   ]
  },
  {
   "cell_type": "code",
   "execution_count": 53,
   "metadata": {},
   "outputs": [
    {
     "data": {
      "text/plain": [
       "(5751581, 5751581, 5751581)"
      ]
     },
     "execution_count": 53,
     "metadata": {},
     "output_type": "execute_result"
    }
   ],
   "source": [
    "scores_by_vertex.sum()//2,score_track, score(G,H,mapping,require_surjective=False)"
   ]
  },
  {
   "cell_type": "code",
   "execution_count": 42,
   "metadata": {},
   "outputs": [
    {
     "data": {
      "text/plain": [
       "15985"
      ]
     },
     "execution_count": 42,
     "metadata": {},
     "output_type": "execute_result"
    }
   ],
   "source": [
    "len(np.unique(mapping))"
   ]
  }
 ],
 "metadata": {
  "kernelspec": {
   "display_name": "Python 3",
   "language": "python",
   "name": "python3"
  },
  "language_info": {
   "codemirror_mode": {
    "name": "ipython",
    "version": 3
   },
   "file_extension": ".py",
   "mimetype": "text/x-python",
   "name": "python",
   "nbconvert_exporter": "python",
   "pygments_lexer": "ipython3",
   "version": "3.10.8"
  }
 },
 "nbformat": 4,
 "nbformat_minor": 2
}

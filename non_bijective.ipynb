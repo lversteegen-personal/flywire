{
 "cells": [
  {
   "cell_type": "code",
   "execution_count": 1,
   "metadata": {},
   "outputs": [],
   "source": [
    "import numpy as np\n",
    "import scipy as sp\n",
    "from utility import get_best_connected, invert, score, get_highest_out_degrees \n",
    "#from data_loader import M,F, benchmark_mapping\n",
    "rng = np.random.default_rng(0)"
   ]
  },
  {
   "cell_type": "code",
   "execution_count": 287,
   "metadata": {},
   "outputs": [],
   "source": [
    "from utility import random_graph_dist,shuffle_graph,shuffle_map\n",
    "\n",
    "N=500\n",
    "def mod_pow(x,m,p):\n",
    "   y=x.copy()\n",
    "   for i in range(m-1):\n",
    "      y = (y*x)%p\n",
    "\n",
    "   return y\n",
    "\n",
    "V=np.arange(N)\n",
    "G=(mod_pow(V[:,None]-V[None,:],127,509)==1).astype(np.int32)\n",
    "   \n",
    "H,shuffle=shuffle_graph(G,stable=None,rng=rng)\n",
    "mapping = shuffle_map(shuffle,stable=None)\n",
    "inverse_mapping = invert(mapping)"
   ]
  },
  {
   "cell_type": "code",
   "execution_count": 288,
   "metadata": {},
   "outputs": [
    {
     "data": {
      "text/plain": [
       "62377"
      ]
     },
     "execution_count": 288,
     "metadata": {},
     "output_type": "execute_result"
    }
   ],
   "source": [
    "np.count_nonzero(G)"
   ]
  },
  {
   "cell_type": "code",
   "execution_count": 308,
   "metadata": {},
   "outputs": [
    {
     "name": "stdout",
     "output_type": "stream",
     "text": [
      "i=7, j=480, score_track=20770, unique=500           \r"
     ]
    },
    {
     "data": {
      "text/plain": [
       "(20872, 20770, 62377)"
      ]
     },
     "execution_count": 308,
     "metadata": {},
     "output_type": "execute_result"
    }
   ],
   "source": [
    "from algorithms import move_swap_optimization\n",
    "\n",
    "penalty_gradient = lambda usage: 2048*usage\n",
    "rng = np.random.default_rng(0)\n",
    "\n",
    "mapping, score_track = move_swap_optimization(G,H,mapping,penalty_gradient,rng=rng,verbose=True)\n",
    "inverse_mapping, inverse_score = move_swap_optimization(H,G,inverse_mapping,penalty_gradient,rng=rng,verbose=True)\n",
    "\n",
    "score(G,H,mapping,require_surjective=False), score(H,G,inverse_mapping,require_surjective=False), score(G,G,np.arange(N))"
   ]
  },
  {
   "cell_type": "code",
   "execution_count": 309,
   "metadata": {},
   "outputs": [
    {
     "data": {
      "text/plain": [
       "(array([], dtype=int64), array([], dtype=int32), array([], dtype=int32))"
      ]
     },
     "execution_count": 309,
     "metadata": {},
     "output_type": "execute_result"
    }
   ],
   "source": [
    "good_points = (inverse_mapping[mapping] == np.arange(N))\n",
    "good_points = np.flatnonzero(good_points)\n",
    "good_points, mapping[good_points],shuffle[good_points]"
   ]
  },
  {
   "cell_type": "code",
   "execution_count": 307,
   "metadata": {},
   "outputs": [],
   "source": [
    "mapping=shuffle_map(mapping,good_points)\n",
    "inverse_mapping=shuffle_map(inverse_mapping,mapping[good_points])"
   ]
  },
  {
   "cell_type": "code",
   "execution_count": 266,
   "metadata": {},
   "outputs": [
    {
     "name": "stdout",
     "output_type": "stream",
     "text": [
      "g=199\r"
     ]
    }
   ],
   "source": [
    "from algorithms import move_swap_optimization\n",
    "\n",
    "k=20\n",
    "N = G.shape[0]\n",
    "trials = 200\n",
    "\n",
    "G_mappings_list, H_mappings_list = [],[]\n",
    "\n",
    "for g in range(trials):\n",
    "\n",
    "    K = random_graph_dist(k,p=0.5,sample_source=lambda : rng.poisson(lam=1), rng=rng)\n",
    "\n",
    "    start_mapping = rng.choice(k,size=N)\n",
    "    projection,_ = move_swap_optimization(G,K,start_mapping=start_mapping,penalty_gradient=lambda x:x)\n",
    "    G_mappings_list.append(projection)\n",
    "\n",
    "    start_mapping = start_mapping[invert(mapping)]\n",
    "    projection,_ = move_swap_optimization(H,K,start_mapping=start_mapping,penalty_gradient=lambda x:x)\n",
    "    H_mappings_list.append(projection)\n",
    "\n",
    "    print(f\"{g=}\",end=\"\\r\")\n",
    "    \n"
   ]
  },
  {
   "cell_type": "code",
   "execution_count": 263,
   "metadata": {},
   "outputs": [
    {
     "data": {
      "text/plain": [
       "(1072, 1351)"
      ]
     },
     "execution_count": 263,
     "metadata": {},
     "output_type": "execute_result"
    }
   ],
   "source": [
    "G_mappings = np.array(G_mappings_list).T\n",
    "H_mappings = np.array(H_mappings_list).T\n",
    "unshuffled_H_mappings = H_mappings[shuffle,:]\n",
    "(G_mappings==H_mappings).sum(),(G_mappings==unshuffled_H_mappings).sum()"
   ]
  },
  {
   "cell_type": "code",
   "execution_count": 264,
   "metadata": {},
   "outputs": [
    {
     "data": {
      "text/plain": [
       "array([False, False, False, False, False, False, False,  True, False,\n",
       "       False, False, False, False, False, False, False, False, False,\n",
       "       False, False, False, False, False, False, False, False, False,\n",
       "       False, False, False, False, False, False, False, False, False,\n",
       "       False, False, False, False, False, False, False, False, False,\n",
       "       False, False, False, False, False, False, False, False, False,\n",
       "       False, False, False, False, False, False, False, False, False,\n",
       "       False, False, False, False, False, False, False, False, False,\n",
       "       False, False, False, False, False, False, False, False, False,\n",
       "       False, False, False, False, False, False, False, False, False,\n",
       "       False, False, False, False, False, False, False, False, False,\n",
       "       False])"
      ]
     },
     "execution_count": 264,
     "metadata": {},
     "output_type": "execute_result"
    }
   ],
   "source": [
    "table=(G_mappings[:,None,:]==unshuffled_H_mappings[None,:,:]).sum(axis=2)\n",
    "table.argmax(axis=1)==shuffle"
   ]
  }
 ],
 "metadata": {
  "kernelspec": {
   "display_name": "Python 3",
   "language": "python",
   "name": "python3"
  },
  "language_info": {
   "codemirror_mode": {
    "name": "ipython",
    "version": 3
   },
   "file_extension": ".py",
   "mimetype": "text/x-python",
   "name": "python",
   "nbconvert_exporter": "python",
   "pygments_lexer": "ipython3",
   "version": "3.10.8"
  }
 },
 "nbformat": 4,
 "nbformat_minor": 2
}

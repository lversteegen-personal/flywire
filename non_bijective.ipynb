{
 "cells": [
  {
   "cell_type": "code",
   "execution_count": null,
   "metadata": {},
   "outputs": [],
   "source": [
    "import numpy as np\n",
    "import scipy as sp\n",
    "from utility import M,F, benchmark_mapping, get_best_connected, invert, score, get_highest_out_degrees"
   ]
  },
  {
   "cell_type": "code",
   "execution_count": 3,
   "metadata": {},
   "outputs": [],
   "source": [
    "def move_score(G,H, mapping, u, x):\n",
    "\n",
    "    f_u = mapping[u]\n",
    "\n",
    "    u_row = G[u,:]\n",
    "    u_col = G[:,u]\n",
    "    f_u_row = H[[f_u],mapping]\n",
    "    f_u_col = H[mapping,[f_u]]\n",
    "    x_row = H[[x],mapping]\n",
    "    x_col = H[mapping,[x]]\n",
    "\n",
    "    old_score = np.minimum(u_row,f_u_row).sum() + np.minimum(u_col,f_u_col).sum()\n",
    "    old_score = old_score - min(G[u,u],H[f_u,f_u])\n",
    "    new_score = np.minimum(u_row,x_row).sum() + np.minimum(u_col,x_col).sum()\n",
    "    new_score = new_score - min(G[u,u],H[x,x])\n",
    "\n",
    "    return new_score - old_score\n",
    "\n",
    "def find_best_move(G,H, mapping, u, mask = None):\n",
    "\n",
    "    m = G.shape[0]\n",
    "    u_row = G[u,:]\n",
    "    u_col = G[:,u]\n",
    "\n",
    "    if mask is None:\n",
    "        n = H.shape[0]\n",
    "        X = H[:,mapping[None,:]].reshape((n,m))\n",
    "        Y = H[mapping[:,None],:].reshape((m,n))\n",
    "    else:\n",
    "        X = H[mask,mapping[None,:]]\n",
    "        n = X.shape[0]\n",
    "        X = X.reshape((n,m))\n",
    "        Y = H[mapping[:,None],mask].reshape((m,n))\n",
    "\n",
    "    scores = np.minimum(u_row[None,:],X).sum(axis=1) + np.minimum(u_col[:,None],Y).sum(axis=0)\n",
    "    scores -= np.minimum(G[u,u],H.diagonal())\n",
    "\n",
    "    return scores"
   ]
  },
  {
   "cell_type": "code",
   "execution_count": 4,
   "metadata": {},
   "outputs": [
    {
     "data": {
      "text/plain": [
       "(0.204576, 0.2318)"
      ]
     },
     "execution_count": 4,
     "metadata": {},
     "output_type": "execute_result"
    }
   ],
   "source": [
    "m,n = 100,500\n",
    "H_M,M_positions = get_highest_out_degrees(M,n)\n",
    "H_F,F_positions = get_highest_out_degrees(F,m)\n",
    "H_M = H_M.todense()\n",
    "H_F = H_F.todense()\n",
    "H_F[np.arange(m),np.arange(m)] = 0\n",
    "H_M[np.arange(n),np.arange(n)] = 0\n",
    "np.count_nonzero(H_M)/n**2, np.count_nonzero(H_F)/m**2"
   ]
  },
  {
   "cell_type": "code",
   "execution_count": null,
   "metadata": {},
   "outputs": [
    {
     "name": "stdout",
     "output_type": "stream",
     "text": [
      "i=199, j=12, top_score=7678                    \r"
     ]
    },
    {
     "data": {
      "text/plain": [
       "(7678, 13260)"
      ]
     },
     "execution_count": 6,
     "metadata": {},
     "output_type": "execute_result"
    }
   ],
   "source": [
    "G=H_F#np.log1p(H_F)\n",
    "H=H_M#np.log1p(H_M)\n",
    "rng = np.random.default_rng()\n",
    "result_matrix = np.zeros((m,n),dtype=int)\n",
    "\n",
    "for i in range(200):\n",
    "    mapping = rng.choice(n,size=m,replace=False)\n",
    "\n",
    "    unmapped = np.ones(n,dtype=bool)\n",
    "    unmapped[mapping] = False\n",
    "\n",
    "    top_score = score(G,H,mapping,require_surjective=False)\n",
    "    \n",
    "    for j in range(50):\n",
    "\n",
    "        unchanged = True\n",
    "\n",
    "        for u in rng.permutation(m):\n",
    "\n",
    "            change_scores = find_best_move(G,H,mapping,u)\n",
    "            v = (change_scores*unmapped).argmax()\n",
    "\n",
    "            if change_scores[v] > change_scores[mapping[u]]:\n",
    "                top_score = top_score + change_scores[v]-change_scores[mapping[u]]\n",
    "\n",
    "                unmapped[mapping[u]] = True\n",
    "                unmapped[v] = False\n",
    "                mapping[u] = v\n",
    "                unchanged = False\n",
    "\n",
    "            print(f\"{i=}, {j=}, {top_score=}\"+\" \"*20,end=\"\\r\")\n",
    "\n",
    "        if unchanged:\n",
    "            break\n",
    "    \n",
    "    result_matrix[np.arange(m),mapping] += 1\n",
    "\n",
    "\n",
    "score(G,H,mapping,require_surjective=False), score(G,G,np.arange(m))"
   ]
  },
  {
   "cell_type": "code",
   "execution_count": null,
   "metadata": {},
   "outputs": [],
   "source": [
    "best_arg = result_matrix.argmax(axis=1)\n",
    "best_scores = result_matrix[np.arange(m),best_arg]\n",
    "np.concatenate([np.arange(m)[:,None],best_arg[:,None],best_scores[:,None]],axis=1)\n",
    "#score(G,H,best_arg,require_surjective=False)"
   ]
  },
  {
   "cell_type": "code",
   "execution_count": 10,
   "metadata": {},
   "outputs": [
    {
     "data": {
      "text/plain": [
       "(array([ 0,  0,  0, 15,  0,  0,  0,  0,  0,  4,  6,  0,  0,  3,  6,  1,  0,\n",
       "         0,  0,  0,  0,  4, 20,  0,  0, 12,  2,  0,  0,  0,  0,  0,  0,  0,\n",
       "         6,  0, 26,  5,  0,  0,  0,  0,  0,  0,  0,  0,  0,  0,  2,  0,  0,\n",
       "         0,  1,  1,  0,  1,  0, 25,  0,  0,  0,  0,  0,  0,  0,  4,  0,  0,\n",
       "         0,  0,  0,  0, 18,  0,  0,  0,  5,  0,  0,  0,  2,  0,  0,  0,  0,\n",
       "         0,  1,  1,  0,  1,  0,  0,  0,  1,  0,  1,  0,  0,  0,  0]),\n",
       " array([ 0,  1,  0, 12,  0,  1,  0,  0,  1,  4,  6,  0,  0,  4, 16,  0,  0,\n",
       "         1,  0,  0,  0,  5, 14,  0,  0,  7,  3,  0,  0,  0,  1,  0,  0,  0,\n",
       "         7,  0,  8,  1,  1,  0,  1,  0,  0,  3,  1,  0,  0,  1,  0,  1,  1,\n",
       "         0,  3,  0,  1,  2,  1,  9,  1,  0,  0,  0,  0,  1,  2,  1,  1,  0,\n",
       "         0,  0,  0,  1,  8,  0,  1,  0,  3,  0,  1,  4,  0,  1,  0,  0,  0,\n",
       "         0,  0,  1,  1, 10,  1,  0,  0,  2,  0,  4,  0,  0,  0,  0]))"
      ]
     },
     "execution_count": 10,
     "metadata": {},
     "output_type": "execute_result"
    }
   ],
   "source": [
    "result_matrix[:,22],result_matrix[:,7]"
   ]
  },
  {
   "cell_type": "code",
   "execution_count": 126,
   "metadata": {},
   "outputs": [
    {
     "name": "stdout",
     "output_type": "stream",
     "text": [
      "i=99, j=2, top_score=8284.0\r"
     ]
    }
   ],
   "source": [
    "mapping = best_arg.copy()\n",
    "top_score = score(G,H,best_arg,require_surjective=False)\n",
    "\n",
    "for j in range(50):\n",
    "\n",
    "    unchanged = True\n",
    "\n",
    "    for u in rng.permutation(m):\n",
    "        best = mapping[u]\n",
    "        for v in range(n):\n",
    "\n",
    "            if u==v:\n",
    "                continue\n",
    "\n",
    "            mapping[u] = v\n",
    "            s = score(G,H,mapping,require_surjective=False)\n",
    "            if s > top_score:\n",
    "                top_score = s\n",
    "                best = v\n",
    "                unchanged = False\n",
    "            else:\n",
    "                mapping[u] = best\n",
    "\n",
    "        print(f\"{i=}, {j=}, {top_score=}\",end=\"\\r\")\n",
    "\n",
    "    if unchanged:\n",
    "        break"
   ]
  },
  {
   "cell_type": "code",
   "execution_count": null,
   "metadata": {},
   "outputs": [],
   "source": []
  }
 ],
 "metadata": {
  "kernelspec": {
   "display_name": "Python 3",
   "language": "python",
   "name": "python3"
  },
  "language_info": {
   "codemirror_mode": {
    "name": "ipython",
    "version": 3
   },
   "file_extension": ".py",
   "mimetype": "text/x-python",
   "name": "python",
   "nbconvert_exporter": "python",
   "pygments_lexer": "ipython3",
   "version": "3.10.8"
  }
 },
 "nbformat": 4,
 "nbformat_minor": 2
}
